{
 "cells": [
  {
   "cell_type": "code",
   "execution_count": 1,
   "metadata": {
    "collapsed": true
   },
   "outputs": [],
   "source": [
    "import pandas as pd\n",
    "import matplotlib.pyplot as plt\n",
    "from function_creation import draw_chart,draw_chart2, print_label, calc_means, calc_sems, count_sample\n",
    "import numpy as np\n"
   ]
  },
  {
   "cell_type": "code",
   "execution_count": 2,
   "metadata": {
    "collapsed": true
   },
   "outputs": [],
   "source": [
    "advice_df = pd.read_csv(\"employee_reviews.csv\",encoding=\"utf-8\")\n",
    "advice_df= advice_df[['company', 'location', 'dates', 'job-title', 'advice-to-mgmt']]\n",
    "new=advice_df['job-title'].str.split(\"-\",expand=True)\n",
    "advice_df['status']= new[0]\n",
    "advice_df['position']= new[1]\n",
    "advice_df= advice_df.drop(['job-title'],axis=1)\n",
    "advice_df= advice_df.drop(['position'],axis=1)\n",
    "\n",
    "\n",
    "advice_df.reset_index()\n",
    "\n",
    "\n",
    "#=====================================================================================\n",
    "#values for current and former employees in each company\n",
    "# ====================================================================================\n",
    "google_df= advice_df.loc[(advice_df[\"company\"]==\"google\"),:]\n",
    "g_non = google_df[\"advice-to-mgmt\"].str.count(\"none\").sum()\n",
    "g_cur = google_df[\"status\"].str.count(\"Current Employee\").sum()\n",
    "g_for = google_df[\"status\"].str.count(\"Former Employee\").sum()\n",
    "\n",
    "amazon_df=advice_df.loc[(advice_df[\"company\"]==\"amazon\"),:]\n",
    "a_non = amazon_df[\"advice-to-mgmt\"].str.count(\"none\").sum()\n",
    "a_cur = amazon_df[\"status\"].str.count(\"Current Employee\").sum()\n",
    "a_for = amazon_df[\"status\"].str.count(\"Former Employee\").sum()\n",
    "\n",
    "\n",
    "facebook_df=advice_df.loc[(advice_df[\"company\"]==\"facebook\"),:]\n",
    "f_non = facebook_df[\"advice-to-mgmt\"].str.count(\"none\").sum()\n",
    "f_cur = facebook_df[\"status\"].str.count(\"Current Employee\").sum()\n",
    "f_for = facebook_df[\"status\"].str.count(\"Former Employee\").sum()\n",
    "\n",
    "\n",
    "netflix_df=advice_df.loc[(advice_df[\"company\"]==\"netflix\"),:]\n",
    "n_non = netflix_df[\"advice-to-mgmt\"].str.count(\"none\").sum()\n",
    "n_cur = netflix_df[\"status\"].str.count(\"Current Employee\").sum()\n",
    "n_for = netflix_df[\"status\"].str.count(\"Former Employee\").sum()\n",
    "\n",
    "apple_df=advice_df.loc[(advice_df[\"company\"]==\"apple\"),:]\n",
    "ap_non = apple_df[\"advice-to-mgmt\"].str.count(\"none\").sum()\n",
    "ap_cur = apple_df[\"status\"].str.count(\"Current Employee\").sum()\n",
    "ap_for = apple_df[\"status\"].str.count(\"Former Employee\").sum()\n",
    "\n",
    "microsoft_df=advice_df.loc[(advice_df[\"company\"]==\"microsoft\"),:]\n",
    "m_non = microsoft_df[\"advice-to-mgmt\"].str.count(\"none\").sum()\n",
    "m_cur = microsoft_df[\"status\"].str.count(\"Current Employee\").sum()\n",
    "m_for = microsoft_df[\"status\"].str.count(\"Former Employee\").sum()\n",
    "\n",
    "\n",
    "\n",
    "# g_labels = 'Current Employees', 'Former Employee', 'Employees that didn\\'t give advice'\n",
    "# g_sizes = [g_cur,g_for,g_non]\n",
    "# plt.pie(g_sizes, labels=g_labels, autopct=\"%1.1f%%\", shadow=True, startangle=140)\n",
    "# plt.title(\"Google\")\n",
    "# plt.savefig(\"./images/google_pie.png\")\n",
    "\n",
    "\n",
    "\n",
    "\n",
    "# f_labels = 'Current Employees', 'Former Employee', 'Employees that didn\\'t give advice'\n",
    "# f_sizes = [f_cur,f_for,f_non]\n",
    "\n",
    "\n",
    "# n_labels = 'Current Employees', 'Former Employee', 'Employees that didn\\'t give advice'\n",
    "# n_sizes = [n_cur,n_for,n_non]\n",
    "\n",
    "\n",
    "# ap_labels = 'Current Employees', 'Former Employee', 'Employees that didn\\'t give advice'\n",
    "# ap_sizes = [ap_cur,ap_for,ap_non]\n",
    "\n",
    "\n",
    "# m_labels = 'Current Employees', 'Former Employee', 'Employees that didn\\'t give advice'\n",
    "# m_sizes = [m_cur,m_for,m_non]\n",
    "\n",
    "\n",
    "# ======================================================================================\n",
    "\n",
    "\n"
   ]
  },
  {
   "cell_type": "code",
   "execution_count": 3,
   "metadata": {
    "collapsed": true
   },
   "outputs": [],
   "source": [
    "g_labels = 'Current Employees', 'Former Employee', 'Employees that didn\\'t give advice'\n",
    "g_sizes = [g_cur,g_for,g_non]\n",
    "g_colors=[\"gold\", \"magenta\",\"cyan\"]\n",
    "plt.pie(g_sizes, labels=g_labels, autopct=\"%1.1f%%\", colors= g_colors, startangle=140)\n",
    "plt.title(\"Google Comparison of Employees Who Gave Advice to Management\")\n",
    "plt.savefig(\"./Images/Employee_Mgmt_Feedback/google_pie.png\", bbox_inches=\"tight\"  )"
   ]
  },
  {
   "cell_type": "code",
   "execution_count": 5,
   "metadata": {},
   "outputs": [],
   "source": [
    "a_labels = 'Current Employees', 'Former Employee', 'Employees that didn\\'t give advice'\n",
    "a_sizes = [a_cur,a_for,a_non]\n",
    "a_colors=[\"darkorange\", \"magenta\",\"cyan\"]\n",
    "plt.pie(a_sizes, labels=a_labels, autopct=\"%1.1f%%\", colors= a_colors,startangle=140)\n",
    "plt.title(\"Amazon Comparison of Employees Who Gave Advice to Management\")\n",
    "plt.savefig(\"./Images/Employee_Mgmt_Feedback/amazon_pie.png\", bbox_inches=\"tight\"  )"
   ]
  },
  {
   "cell_type": "code",
   "execution_count": 6,
   "metadata": {},
   "outputs": [],
   "source": [
    "f_labels = 'Current Employees', 'Former Employee', 'Employees that didn\\'t give advice'\n",
    "f_sizes = [f_cur,f_for,f_non]\n",
    "f_colors=[\"royalblue\", \"magenta\",\"cyan\"]\n",
    "plt.pie(f_sizes, labels=f_labels, autopct=\"%1.1f%%\", colors = f_colors, startangle=140)\n",
    "plt.title(\"Facebook Comparison of Employees Who Gave Advice to Management\")\n",
    "\n",
    "plt.savefig(\"./Images/Employee_Mgmt_Feedback/facebook_pie.png\", bbox_inches=\"tight\"  )"
   ]
  },
  {
   "cell_type": "code",
   "execution_count": 7,
   "metadata": {},
   "outputs": [],
   "source": [
    "n_labels = 'Current Employees', 'Former Employee', 'Employees that didn\\'t give advice'\n",
    "n_sizes = [n_cur,n_for,n_non]\n",
    "n_colors=[\"red\", \"magenta\",\"cyan\"]\n",
    "plt.pie(n_sizes, labels=n_labels, autopct=\"%1.1f%%\",colors= n_colors, startangle=140)\n",
    "plt.title(\"Netflix Comparison of Employees Who Gave Advice to Management\")\n",
    "plt.savefig(\"./Images/Employee_Mgmt_Feedback/netflix_pie.png\", bbox_inches=\"tight\"  )"
   ]
  },
  {
   "cell_type": "code",
   "execution_count": 8,
   "metadata": {},
   "outputs": [],
   "source": [
    "ap_labels = 'Current Employees', 'Former Employee', 'Employees that didn\\'t give advice'\n",
    "ap_sizes = [ap_cur,ap_for,ap_non]\n",
    "ap_colors=[\"grey\", \"magenta\",\"cyan\"]\n",
    "plt.pie(ap_sizes, labels=ap_labels, autopct=\"%1.1f%%\",colors = ap_colors, startangle=140)\n",
    "plt.title(\"Apple Comparison of Employees Who Gave Advice to Management\")\n",
    "plt.savefig(\"./Images/Employee_Mgmt_Feedback/apple_pie.png\", bbox_inches=\"tight\"  )"
   ]
  },
  {
   "cell_type": "code",
   "execution_count": 9,
   "metadata": {},
   "outputs": [],
   "source": [
    "m_labels = 'Current Employees', 'Former Employee', 'Employees that didn\\'t give advice'\n",
    "m_sizes = [m_cur,m_for,m_non]\n",
    "m_colors=[\"green\", \"magenta\",\"cyan\"]\n",
    "plt.pie(m_sizes, labels=m_labels, autopct=\"%1.1f%%\", colors=m_colors, startangle=140)\n",
    "plt.title(\"Microsoft Comparison of Employees Who Gave Advice to Management\")\n",
    "plt.savefig(\"./Images/Employee_Mgmt_Feedback/microsoft_pie.png\", bbox_inches=\"tight\"  )"
   ]
  },
  {
   "cell_type": "code",
   "execution_count": 10,
   "metadata": {
    "scrolled": true
   },
   "outputs": [
    {
     "ename": "NameError",
     "evalue": "name 'x_axis' is not defined",
     "output_type": "error",
     "traceback": [
      "\u001b[1;31m---------------------------------------------------------------------------\u001b[0m",
      "\u001b[1;31mNameError\u001b[0m                                 Traceback (most recent call last)",
      "\u001b[1;32m<ipython-input-10-489174e20c20>\u001b[0m in \u001b[0;36m<module>\u001b[1;34m()\u001b[0m\n\u001b[0;32m     12\u001b[0m \u001b[0mplt\u001b[0m\u001b[1;33m.\u001b[0m\u001b[0mylabel\u001b[0m\u001b[1;33m(\u001b[0m\u001b[1;34m\"Number of Employees\"\u001b[0m\u001b[1;33m)\u001b[0m\u001b[1;33m\u001b[0m\u001b[0m\n\u001b[0;32m     13\u001b[0m \u001b[1;33m\u001b[0m\u001b[0m\n\u001b[1;32m---> 14\u001b[1;33m \u001b[0mplt\u001b[0m\u001b[1;33m.\u001b[0m\u001b[0mbar\u001b[0m\u001b[1;33m(\u001b[0m\u001b[0mx_axis\u001b[0m\u001b[1;33m,\u001b[0m \u001b[0mg_data\u001b[0m\u001b[1;33m,\u001b[0m \u001b[0mcolor\u001b[0m\u001b[1;33m=\u001b[0m\u001b[1;34m\"gold\"\u001b[0m\u001b[1;33m,\u001b[0m \u001b[0malign\u001b[0m\u001b[1;33m=\u001b[0m\u001b[1;34m\"center\"\u001b[0m\u001b[1;33m)\u001b[0m\u001b[1;33m\u001b[0m\u001b[0m\n\u001b[0m\u001b[0;32m     15\u001b[0m \u001b[0mplt\u001b[0m\u001b[1;33m.\u001b[0m\u001b[0msavefig\u001b[0m\u001b[1;33m(\u001b[0m\u001b[1;34m\"./Images/Employee_Mgmt_Feedback/google_bar.png\"\u001b[0m\u001b[1;33m,\u001b[0m \u001b[0mbbox_inches\u001b[0m\u001b[1;33m=\u001b[0m\u001b[1;34m\"tight\"\u001b[0m  \u001b[1;33m)\u001b[0m\u001b[1;33m\u001b[0m\u001b[0m\n",
      "\u001b[1;31mNameError\u001b[0m: name 'x_axis' is not defined"
     ]
    }
   ],
   "source": [
    "\n",
    "g_data=[g_cur,g_for]\n",
    "gx_axis = np.arange(len(g_data))\n",
    "labels =[\"Current Employees\", \"Former Employees\"]\n",
    "tick_locations = [value for value in gx_axis]\n",
    "plt.xticks(tick_locations, labels)\n",
    "plt.xlim(-0.75, len(gx_axis)-0.25)\n",
    "plt.ylim(0, max(g_data)+1000)\n",
    "\n",
    "plt.title(\"Google Current vs Former Employees That Gave Input\")\n",
    "plt.xlabel(\"Employement Status\")\n",
    "plt.ylabel(\"Number of Employees\")\n",
    "\n",
    "plt.bar(x_axis, g_data, color=\"gold\", align=\"center\")\n",
    "plt.savefig(\"./Images/Employee_Mgmt_Feedback/google_bar.png\", bbox_inches=\"tight\"  )"
   ]
  },
  {
   "cell_type": "code",
   "execution_count": 126,
   "metadata": {},
   "outputs": [
    {
     "data": {
      "image/png": "[encoded data removed]",
      "text/plain": [
       "<Figure size 432x288 with 1 Axes>"
      ]
     },
     "metadata": {
      "needs_background": "light"
     },
     "output_type": "display_data"
    }
   ],
   "source": [
    "a_data=[a_cur,a_for]\n",
    "ax_axis = np.arange(len(a_data))\n",
    "labels =[\"Current Employees\", \"Former Employees\"]\n",
    "tick_locations = [value for value in ax_axis]\n",
    "plt.xticks(tick_locations, labels)\n",
    "plt.xlim(-0.75, len(ax_axis)-0.25)\n",
    "plt.ylim(0, max(a_data)+1000)\n",
    "\n",
    "plt.title(\"Amazon Current vs Former Employees That Gave Input\")\n",
    "plt.xlabel(\"Employement Status\")\n",
    "plt.ylabel(\"Number of Employees\")\n",
    "\n",
    "plt.bar(ax_axis, a_data, color=\"darkorange\", align=\"center\")\n",
    "# plt.savefig(\"amazon_bar.png\", bbox_inches=\"tight\"  )"
   ]
  },
  {
   "cell_type": "code",
   "execution_count": 108,
   "metadata": {},
   "outputs": [
    {
     "data": {
      "image/png": "[encoded data removed]",
      "text/plain": [
       "<Figure size 432x288 with 1 Axes>"
      ]
     },
     "metadata": {
      "needs_background": "light"
     },
     "output_type": "display_data"
    }
   ],
   "source": [
    "f_data=[f_cur,f_for]\n",
    "fx_axis = np.arange(len(f_data))\n",
    "labels =[\"Current Employees\", \"Former Employees\"]\n",
    "tick_locations = [value for value in fx_axis]\n",
    "plt.xticks(tick_locations, labels)\n",
    "plt.xlim(-0.75, len(fx_axis)-0.25)\n",
    "plt.ylim(0, max(f_data)+1000)\n",
    "\n",
    "plt.title(\"Facebook Current vs Former Employees That Gave Input\")\n",
    "plt.xlabel(\"Employement Status\")\n",
    "plt.ylabel(\"Number of Employees\")\n",
    "\n",
    "plt.bar(fx_axis, f_data, color=\"royalblue\", align=\"center\")\n",
    "# plt.savefig(\"facebook_bar.png\", bbox_inches=\"tight\"  )"
   ]
  },
  {
   "cell_type": "code",
   "execution_count": 105,
   "metadata": {},
   "outputs": [
    {
     "data": {
      "image/png": "[encoded data removed]",
      "text/plain": [
       "<Figure size 432x288 with 1 Axes>"
      ]
     },
     "metadata": {
      "needs_background": "light"
     },
     "output_type": "display_data"
    }
   ],
   "source": [
    "n_data=[n_cur,n_for]\n",
    "nx_axis = np.arange(len(n_data))\n",
    "labels =[\"Current Employees\", \"Former Employees\"]\n",
    "tick_locations = [value for value in nx_axis]\n",
    "plt.xticks(tick_locations, labels)\n",
    "plt.xlim(-0.75, len(nx_axis)-0.25)\n",
    "plt.ylim(0, max(n_data)+1000)\n",
    "\n",
    "plt.title(\"Netflix Current vs Former Employees That Gave Input\")\n",
    "plt.xlabel(\"Employement Status\")\n",
    "plt.ylabel(\"Number of Employees\")\n",
    "\n",
    "plt.bar(nx_axis, n_data, color=\"red\", align=\"center\")\n",
    "# plt.savefig(\"netflix_bar.png\", bbox_inches=\"tight\"  )"
   ]
  },
  {
   "cell_type": "code",
   "execution_count": 106,
   "metadata": {},
   "outputs": [
    {
     "data": {
      "image/png": "[encoded data removed]",
      "text/plain": [
       "<Figure size 432x288 with 1 Axes>"
      ]
     },
     "metadata": {
      "needs_background": "light"
     },
     "output_type": "display_data"
    }
   ],
   "source": [
    "ap_data=[ap_cur,a_for]\n",
    "apx_axis = np.arange(len(ap_data))\n",
    "labels =[\"Current Employees\", \"Former Employees\"]\n",
    "tick_locations = [value for value in apx_axis]\n",
    "plt.xticks(tick_locations, labels)\n",
    "plt.xlim(-0.75, len(apx_axis)-0.25)\n",
    "plt.ylim(0, max(ap_data)+1000)\n",
    "\n",
    "plt.title(\"Apple Current vs Former Employees That Gave Input\")\n",
    "plt.xlabel(\"Employement Status\")\n",
    "plt.ylabel(\"Number of Employees\")\n",
    "\n",
    "plt.bar(apx_axis, ap_data, color=\"grey\", align=\"center\")\n",
    "# plt.savefig(\"apple_bar.png\", bbox_inches=\"tight\"  )"
   ]
  },
  {
   "cell_type": "code",
   "execution_count": 107,
   "metadata": {},
   "outputs": [
    {
     "data": {
      "image/png": "[encoded data removed]",
      "text/plain": [
       "<Figure size 432x288 with 1 Axes>"
      ]
     },
     "metadata": {
      "needs_background": "light"
     },
     "output_type": "display_data"
    }
   ],
   "source": [
    "m_data=[m_cur,m_for]\n",
    "mx_axis = np.arange(len(m_data))\n",
    "labels =[\"Current Employees\", \"Former Employees\"]\n",
    "tick_locations = [value for value in mx_axis]\n",
    "plt.xticks(tick_locations, labels)\n",
    "plt.xlim(-0.75, len(mx_axis)-0.25)\n",
    "plt.ylim(0, max(m_data)+1000)\n",
    "\n",
    "plt.title(\"Microsoft Current vs Former Employees That Gave Input\")\n",
    "plt.xlabel(\"Employement Status\")\n",
    "plt.ylabel(\"Number of Employees\")\n",
    "\n",
    "plt.bar(mx_axis, m_data, color=\"green\", align=\"center\")\n",
    "# plt.savefig(\"microsoft_bar.png\", bbox_inches=\"tight\"  )"
   ]
  }
 ],
 "metadata": {
  "file_extension": ".py",
  "kernelspec": {
   "display_name": "Python 3",
   "language": "python",
   "name": "python3"
  },
  "language_info": {
   "codemirror_mode": {
    "name": "ipython",
    "version": 3
   },
   "file_extension": ".py",
   "mimetype": "text/x-python",
   "name": "python",
   "nbconvert_exporter": "python",
   "pygments_lexer": "ipython3",
   "version": "3.6.3"
  },
  "mimetype": "text/x-python",
  "name": "python",
  "npconvert_exporter": "python",
  "pygments_lexer": "ipython3",
  "version": 3
 },
 "nbformat": 4,
 "nbformat_minor": 2
}
