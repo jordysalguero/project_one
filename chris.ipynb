{
 "cells": [
  {
   "cell_type": "code",
   "execution_count": 2,
   "metadata": {},
   "outputs": [],
   "source": [
    "import pandas as pd\n",
    "import matplotlib.pyplot as plt\n",
    "from function_creation import draw_chart,draw_chart2, print_label, calc_means, calc_sems, count_sample\n",
    "\n"
   ]
  },
  {
   "cell_type": "code",
   "execution_count": 16,
   "metadata": {},
   "outputs": [
    {
     "data": {
      "image/png": "[encoded data removed]",
      "text/plain": [
       "<Figure size 432x288 with 1 Axes>"
      ]
     },
     "metadata": {},
     "output_type": "display_data"
    }
   ],
   "source": [
    "advice_df = pd.read_csv(\"employee_reviews.csv\",encoding=\"utf-8\")\n",
    "advice_df= advice_df[['company', 'location', 'dates', 'job-title', 'advice-to-mgmt']]\n",
    "new=advice_df['job-title'].str.split(\"-\",expand=True)\n",
    "advice_df['status']= new[0]\n",
    "advice_df['position']= new[1]\n",
    "advice_df= advice_df.drop(['job-title'],axis=1)\n",
    "advice_df= advice_df.drop(['position'],axis=1)\n",
    "# advice_df=advice_df[advice_df['advice-to-mgmt'] != \"none\"]\n",
    "\n",
    "advice_df.reset_index()\n",
    "\n",
    "#advice_df.groupby(\"company\")\n",
    "#=====================================================================================\n",
    "#values for current and former employees in each company\n",
    "# ====================================================================================\n",
    "google_df= advice_df.loc[(advice_df[\"company\"]==\"google\"),:]\n",
    "g_non = google_df[\"advice-to-mgmt\"].str.count(\"none\").sum()\n",
    "g_cur = google_df[\"status\"].str.count(\"Current Employee\").sum()\n",
    "g_for = google_df[\"status\"].str.count(\"Former Employee\").sum()\n",
    "\n",
    "amazon_df=advice_df.loc[(advice_df[\"company\"]==\"amazon\"),:]\n",
    "a_non = amazon_df[\"advice-to-mgmt\"].str.count(\"none\").sum()\n",
    "a_cur = amazon_df[\"status\"].str.count(\"Current Employee\").sum()\n",
    "a_for = amazon_df[\"status\"].str.count(\"Former Employee\").sum()\n",
    "\n",
    "\n",
    "facebook_df=advice_df.loc[(advice_df[\"company\"]==\"facebook\"),:]\n",
    "f_non = facebook_df[\"advice-to-mgmt\"].str.count(\"none\").sum()\n",
    "f_cur = facebook_df[\"status\"].str.count(\"Current Employee\").sum()\n",
    "f_for = facebook_df[\"status\"].str.count(\"Former Employee\").sum()\n",
    "\n",
    "\n",
    "netflix_df=advice_df.loc[(advice_df[\"company\"]==\"netflix\"),:]\n",
    "n_non = netflix_df[\"advice-to-mgmt\"].str.count(\"none\").sum()\n",
    "n_cur = netflix_df[\"status\"].str.count(\"Current Employee\").sum()\n",
    "n_for = netflix_df[\"status\"].str.count(\"Former Employee\").sum()\n",
    "\n",
    "apple_df=advice_df.loc[(advice_df[\"company\"]==\"apple\"),:]\n",
    "ap_non = apple_df[\"advice-to-mgmt\"].str.count(\"none\").sum()\n",
    "ap_cur = apple_df[\"status\"].str.count(\"Current Employee\").sum()\n",
    "ap_for = apple_df[\"status\"].str.count(\"Former Employee\").sum()\n",
    "\n",
    "microsoft_df=advice_df.loc[(advice_df[\"company\"]==\"microsoft\"),:]\n",
    "m_non = microsoft_df[\"advice-to-mgmt\"].str.count(\"none\").sum()\n",
    "m_cur = microsoft_df[\"status\"].str.count(\"Current Employee\").sum()\n",
    "m_for = microsoft_df[\"status\"].str.count(\"Former Employee\").sum()\n",
    "\n",
    "\n",
    "# print(g_cur)\n",
    "# print(g_for)\n",
    "# print(g_non)\n",
    "g_labels = 'Current Employees', 'Former Employee', 'Employees that didn\\'t give advice'\n",
    "g_sizes = [g_cur,g_for,g_non]\n",
    "plt.pie(g_sizes, labels=g_labels, autopct=\"%1.1f%%\", shadow=True, startangle=140)\n",
    "plt.title(\"Google\")\n",
    "# # print(a_cur)\n",
    "# # print(a_for)\n",
    "# # print(a_non)\n",
    "a_labels = 'Current Employees', 'Former Employee', 'Employees that didn\\'t give advice'\n",
    "a_sizes = [a_cur,a_for,a_non]\n",
    "# plt.pie(a_sizes, labels=a_labels, autopct=\"%1.1f%%\", shadow=True, startangle=140)\n",
    "\n",
    "\n",
    "# # print(f_cur)\n",
    "# # print(f_for)\n",
    "# print(f_non)\n",
    "f_labels = 'Current Employees', 'Former Employee', 'Employees that didn\\'t give advice'\n",
    "f_sizes = [f_cur,f_for,f_non]\n",
    "# plt.pie(f_sizes, labels=f_labels, autopct=\"%1.1f%%\", shadow=True, startangle=140)\n",
    "\n",
    "\n",
    "# print(n_cur)\n",
    "# print(n_for)\n",
    "# print(n_non)\n",
    "n_labels = 'Current Employees', 'Former Employee', 'Employees that didn\\'t give advice'\n",
    "n_sizes = [n_cur,n_for,n_non]\n",
    "# plt.pie(n_sizes, labels=n_labels, autopct=\"%1.1f%%\", shadow=True, startangle=140)\n",
    "\n",
    "\n",
    "# print(ap_cur)\n",
    "# print(ap_for)\n",
    "# print(ap_non)\n",
    "ap_labels = 'Current Employees', 'Former Employee', 'Employees that didn\\'t give advice'\n",
    "ap_sizes = [ap_cur,ap_for,ap_non]\n",
    "# plt.pie(ap_sizes, labels=ap_labels, autopct=\"%1.1f%%\", shadow=True, startangle=140)\n",
    "\n",
    "\n",
    "# print(m_cur)\n",
    "# print(m_for)\n",
    "# print(m_non)\n",
    "m_labels = 'Current Employees', 'Former Employee', 'Employees that didn\\'t give advice'\n",
    "m_sizes = [m_cur,m_for,m_non]\n",
    "# plt.pie(m_sizes, labels=m_labels, autopct=\"%1.1f%%\", shadow=True, startangle=140)\n",
    "\n",
    "\n",
    "# ======================================================================================\n",
    "\n",
    "\n"
   ]
  },
  {
   "cell_type": "code",
   "execution_count": 14,
   "metadata": {},
   "outputs": [
    {
     "data": {
      "text/plain": [
       "Text(0.5, 1.0, 'Amazon')"
      ]
     },
     "execution_count": 14,
     "metadata": {},
     "output_type": "execute_result"
    },
    {
     "data": {
      "image/png": "[encoded data removed]",
      "text/plain": [
       "<Figure size 432x288 with 1 Axes>"
      ]
     },
     "metadata": {},
     "output_type": "display_data"
    }
   ],
   "source": [
    "plt.pie(a_sizes, labels=a_labels, autopct=\"%1.1f%%\", shadow=True,startangle=140)\n",
    "plt.title(\"Amazon\")"
   ]
  },
  {
   "cell_type": "code",
   "execution_count": 15,
   "metadata": {},
   "outputs": [
    {
     "data": {
      "text/plain": [
       "Text(0.5, 1.0, 'Facebook')"
      ]
     },
     "execution_count": 15,
     "metadata": {},
     "output_type": "execute_result"
    },
    {
     "data": {
      "image/png": "[encoded data removed]",
      "text/plain": [
       "<Figure size 432x288 with 1 Axes>"
      ]
     },
     "metadata": {},
     "output_type": "display_data"
    }
   ],
   "source": [
    "plt.pie(f_sizes, labels=f_labels, autopct=\"%1.1f%%\", shadow=True, startangle=140)\n",
    "plt.title(\"Facebook\")"
   ]
  },
  {
   "cell_type": "code",
   "execution_count": 9,
   "metadata": {},
   "outputs": [
    {
     "data": {
      "text/plain": [
       "([<matplotlib.patches.Wedge at 0x28753170d30>,\n",
       "  <matplotlib.patches.Wedge at 0x2875598f780>,\n",
       "  <matplotlib.patches.Wedge at 0x287548ae160>],\n",
       " [Text(-0.9635807697207966, -0.5305771388066747, 'Current Employees'),\n",
       "  Text(1.0696767390099515, -0.25649887723153164, 'Former Employee'),\n",
       "  Text(-0.14694843326427068, 1.0901404303855429, \"Employees that didn't give advice\")],\n",
       " [Text(-0.525589510756798, -0.28940571207636795, '38.2%'),\n",
       "  Text(0.5834600394599735, -0.13990847848992632, '38.2%'),\n",
       "  Text(-0.08015369087142035, 0.5946220529375688, '23.5%')])"
      ]
     },
     "execution_count": 9,
     "metadata": {},
     "output_type": "execute_result"
    },
    {
     "data": {
      "image/png": "[encoded data removed]",
      "text/plain": [
       "<Figure size 432x288 with 1 Axes>"
      ]
     },
     "metadata": {},
     "output_type": "display_data"
    }
   ],
   "source": [
    "plt.pie(n_sizes, labels=n_labels, autopct=\"%1.1f%%\", shadow=True, startangle=140)\n",
    "plt.title(\"Netflix\")"
   ]
  },
  {
   "cell_type": "code",
   "execution_count": 10,
   "metadata": {},
   "outputs": [
    {
     "data": {
      "text/plain": [
       "([<matplotlib.patches.Wedge at 0x287537b4b70>,\n",
       "  <matplotlib.patches.Wedge at 0x287595785c0>,\n",
       "  <matplotlib.patches.Wedge at 0x28759578f60>],\n",
       " [Text(-0.9359064394145462, -0.5779957929452313, 'Current Employees'),\n",
       "  Text(1.028695461440299, -0.38959677566957673, 'Former Employee'),\n",
       "  Text(0.04686345490028439, 1.099001281434562, \"Employees that didn't give advice\")],\n",
       " [Text(-0.5104944214988433, -0.3152704325155807, '39.8%'),\n",
       "  Text(0.5611066153310721, -0.21250733218340548, '31.0%'),\n",
       "  Text(0.025561884491064207, 0.5994552444188519, '29.1%')])"
      ]
     },
     "execution_count": 10,
     "metadata": {},
     "output_type": "execute_result"
    },
    {
     "data": {
      "image/png": "[encoded data removed]",
      "text/plain": [
       "<Figure size 432x288 with 1 Axes>"
      ]
     },
     "metadata": {},
     "output_type": "display_data"
    }
   ],
   "source": [
    "plt.pie(ap_sizes, labels=ap_labels, autopct=\"%1.1f%%\", shadow=True, startangle=140)\n",
    "plt.title(\"Apple\")"
   ]
  },
  {
   "cell_type": "code",
   "execution_count": 11,
   "metadata": {},
   "outputs": [
    {
     "data": {
      "text/plain": [
       "([<matplotlib.patches.Wedge at 0x28752f442b0>,\n",
       "  <matplotlib.patches.Wedge at 0x28752f44c88>,\n",
       "  <matplotlib.patches.Wedge at 0x287559a9668>],\n",
       " [Text(-0.8373800237282604, -0.7132984619784752, 'Current Employees'),\n",
       "  Text(1.0766045258656771, -0.22566057450414423, 'Former Employee'),\n",
       "  Text(0.043437518711491575, 1.099142020836338, \"Employees that didn't give advice\")],\n",
       " [Text(-0.4567527402154147, -0.38907188835189555, '44.7%'),\n",
       "  Text(0.5872388322903693, -0.12308758609316957, '26.3%'),\n",
       "  Text(0.023693192024449947, 0.5995320113652752, '29.0%')])"
      ]
     },
     "execution_count": 11,
     "metadata": {},
     "output_type": "execute_result"
    },
    {
     "data": {
      "image/png": "[encoded data removed]",
      "text/plain": [
       "<Figure size 432x288 with 1 Axes>"
      ]
     },
     "metadata": {},
     "output_type": "display_data"
    }
   ],
   "source": [
    "plt.pie(m_sizes, labels=m_labels, autopct=\"%1.1f%%\", shadow=True, startangle=140)\n",
    "plt.title(\"Microsoft\")"
   ]
  },
  {
   "cell_type": "code",
   "execution_count": 4,
   "metadata": {},
   "outputs": [
    {
     "data": {
      "text/html": [
       "<div>\n",
       "<style scoped>\n",
       "    .dataframe tbody tr th:only-of-type {\n",
       "        vertical-align: middle;\n",
       "    }\n",
       "\n",
       "    .dataframe tbody tr th {\n",
       "        vertical-align: top;\n",
       "    }\n",
       "\n",
       "    .dataframe thead th {\n",
       "        text-align: right;\n",
       "    }\n",
       "</style>\n",
       "<table border=\"1\" class=\"dataframe\">\n",
       "  <thead>\n",
       "    <tr style=\"text-align: right;\">\n",
       "      <th></th>\n",
       "      <th>0</th>\n",
       "      <th>company</th>\n",
       "      <th>location</th>\n",
       "      <th>dates</th>\n",
       "      <th>title</th>\n",
       "      <th>overall</th>\n",
       "      <th>wk_bal</th>\n",
       "      <th>culture_val</th>\n",
       "      <th>career_opp</th>\n",
       "      <th>comp_benefit</th>\n",
       "      <th>Sr_mgmt</th>\n",
       "    </tr>\n",
       "  </thead>\n",
       "  <tbody>\n",
       "    <tr>\n",
       "      <th>0</th>\n",
       "      <td>1</td>\n",
       "      <td>google</td>\n",
       "      <td>none</td>\n",
       "      <td>Dec 11, 2018</td>\n",
       "      <td>Current Employee - Anonymous Employee</td>\n",
       "      <td>5.0</td>\n",
       "      <td>4.0</td>\n",
       "      <td>5.0</td>\n",
       "      <td>5.0</td>\n",
       "      <td>4.0</td>\n",
       "      <td>5.0</td>\n",
       "    </tr>\n",
       "    <tr>\n",
       "      <th>1</th>\n",
       "      <td>2</td>\n",
       "      <td>google</td>\n",
       "      <td>Mountain View, CA</td>\n",
       "      <td>Jun 21, 2013</td>\n",
       "      <td>Former Employee - Program Manager</td>\n",
       "      <td>4.0</td>\n",
       "      <td>2.0</td>\n",
       "      <td>3.0</td>\n",
       "      <td>3.0</td>\n",
       "      <td>5.0</td>\n",
       "      <td>3.0</td>\n",
       "    </tr>\n",
       "    <tr>\n",
       "      <th>2</th>\n",
       "      <td>3</td>\n",
       "      <td>google</td>\n",
       "      <td>New York, NY</td>\n",
       "      <td>May 10, 2014</td>\n",
       "      <td>Current Employee - Software Engineer III</td>\n",
       "      <td>5.0</td>\n",
       "      <td>5.0</td>\n",
       "      <td>4.0</td>\n",
       "      <td>5.0</td>\n",
       "      <td>5.0</td>\n",
       "      <td>4.0</td>\n",
       "    </tr>\n",
       "    <tr>\n",
       "      <th>3</th>\n",
       "      <td>4</td>\n",
       "      <td>google</td>\n",
       "      <td>Mountain View, CA</td>\n",
       "      <td>Feb 8, 2015</td>\n",
       "      <td>Current Employee - Anonymous Employee</td>\n",
       "      <td>5.0</td>\n",
       "      <td>2.0</td>\n",
       "      <td>5.0</td>\n",
       "      <td>5.0</td>\n",
       "      <td>4.0</td>\n",
       "      <td>5.0</td>\n",
       "    </tr>\n",
       "    <tr>\n",
       "      <th>4</th>\n",
       "      <td>5</td>\n",
       "      <td>google</td>\n",
       "      <td>Los Angeles, CA</td>\n",
       "      <td>Jul 19, 2018</td>\n",
       "      <td>Former Employee - Software Engineer</td>\n",
       "      <td>5.0</td>\n",
       "      <td>5.0</td>\n",
       "      <td>5.0</td>\n",
       "      <td>5.0</td>\n",
       "      <td>5.0</td>\n",
       "      <td>5.0</td>\n",
       "    </tr>\n",
       "  </tbody>\n",
       "</table>\n",
       "</div>"
      ],
      "text/plain": [
       "   0 company           location          dates  \\\n",
       "0  1  google               none   Dec 11, 2018   \n",
       "1  2  google  Mountain View, CA   Jun 21, 2013   \n",
       "2  3  google       New York, NY   May 10, 2014   \n",
       "3  4  google  Mountain View, CA    Feb 8, 2015   \n",
       "4  5  google    Los Angeles, CA   Jul 19, 2018   \n",
       "\n",
       "                                      title  overall wk_bal culture_val  \\\n",
       "0     Current Employee - Anonymous Employee      5.0    4.0         5.0   \n",
       "1         Former Employee - Program Manager      4.0    2.0         3.0   \n",
       "2  Current Employee - Software Engineer III      5.0    5.0         4.0   \n",
       "3     Current Employee - Anonymous Employee      5.0    2.0         5.0   \n",
       "4       Former Employee - Software Engineer      5.0    5.0         5.0   \n",
       "\n",
       "  career_opp comp_benefit Sr_mgmt  \n",
       "0        5.0          4.0     5.0  \n",
       "1        3.0          5.0     3.0  \n",
       "2        5.0          5.0     4.0  \n",
       "3        5.0          4.0     5.0  \n",
       "4        5.0          5.0     5.0  "
      ]
     },
     "execution_count": 4,
     "metadata": {},
     "output_type": "execute_result"
    }
   ],
   "source": [
    "#read, select, and rename the columns\n",
    "df = pd.read_csv(\"employee_reviews.csv\",encoding=\"utf-8\")\n",
    "df=df[['Unnamed: 0','company', 'location','dates','job-title','overall-ratings','work-balance-stars','culture-values-stars','carrer-opportunities-stars','comp-benefit-stars','senior-mangemnet-stars']]\n",
    "df=df.rename(columns={'Unnamed: 0':'0','job-title':'title','overall-ratings':'overall', 'work-balance-stars':'wk_bal','culture-values-stars':'culture_val','carrer-opportunities-stars':'career_opp','comp-benefit-stars':'comp_benefit', 'senior-mangemnet-stars':'Sr_mgmt'})\n",
    "df.head()\n"
   ]
  },
  {
   "cell_type": "markdown",
   "metadata": {},
   "source": [
    " ####   <'dates' column>\n",
    " #####    i)  clean, split, and keep only the 'year' of 'dates' column\n",
    " #####    ii) clean the non-valid data of the 'year' column-- dropped :  '0000's & 'None', total (67526)"
   ]
  },
  {
   "cell_type": "code",
   "execution_count": 5,
   "metadata": {},
   "outputs": [],
   "source": [
    "# clean, split, and keep only the year of 'dates' column\n",
    "df['overall'].value_counts()\n",
    "df['dates'].dropna(inplace = True) \n",
    "df[['date','year']]=df['dates'].str.split( \", \", expand=True)\n",
    "df1=df.drop(['dates','date'], axis=1)\n",
    "\n",
    "df1=df1[df1['year'] != '0000'] \n",
    "df1=df1[df1['year'] !=  None]  \n",
    "\n",
    "#df1.head() \n"
   ]
  },
  {
   "cell_type": "markdown",
   "metadata": {},
   "source": [
    " #####   <'title' coulmn>  :total (67529)\n",
    " #####  i) 'status': Current Emplyee (42540), Former Employee (24989)\n",
    " #####  ii) \"position' : Anonymous Emplyee (27002)"
   ]
  },
  {
   "cell_type": "code",
   "execution_count": 6,
   "metadata": {},
   "outputs": [
    {
     "data": {
      "text/html": [
       "<div>\n",
       "<style scoped>\n",
       "    .dataframe tbody tr th:only-of-type {\n",
       "        vertical-align: middle;\n",
       "    }\n",
       "\n",
       "    .dataframe tbody tr th {\n",
       "        vertical-align: top;\n",
       "    }\n",
       "\n",
       "    .dataframe thead th {\n",
       "        text-align: right;\n",
       "    }\n",
       "</style>\n",
       "<table border=\"1\" class=\"dataframe\">\n",
       "  <thead>\n",
       "    <tr style=\"text-align: right;\">\n",
       "      <th></th>\n",
       "      <th>0</th>\n",
       "      <th>company</th>\n",
       "      <th>location</th>\n",
       "      <th>overall</th>\n",
       "      <th>wk_bal</th>\n",
       "      <th>culture_val</th>\n",
       "      <th>career_opp</th>\n",
       "      <th>comp_benefit</th>\n",
       "      <th>Sr_mgmt</th>\n",
       "      <th>year</th>\n",
       "      <th>status</th>\n",
       "      <th>position</th>\n",
       "    </tr>\n",
       "  </thead>\n",
       "  <tbody>\n",
       "    <tr>\n",
       "      <th>0</th>\n",
       "      <td>1</td>\n",
       "      <td>google</td>\n",
       "      <td>none</td>\n",
       "      <td>5.0</td>\n",
       "      <td>4.0</td>\n",
       "      <td>5.0</td>\n",
       "      <td>5.0</td>\n",
       "      <td>4.0</td>\n",
       "      <td>5.0</td>\n",
       "      <td>2018</td>\n",
       "      <td>Current Employee</td>\n",
       "      <td>Anonymous Employee</td>\n",
       "    </tr>\n",
       "    <tr>\n",
       "      <th>1</th>\n",
       "      <td>2</td>\n",
       "      <td>google</td>\n",
       "      <td>Mountain View, CA</td>\n",
       "      <td>4.0</td>\n",
       "      <td>2.0</td>\n",
       "      <td>3.0</td>\n",
       "      <td>3.0</td>\n",
       "      <td>5.0</td>\n",
       "      <td>3.0</td>\n",
       "      <td>2013</td>\n",
       "      <td>Former Employee</td>\n",
       "      <td>Program Manager</td>\n",
       "    </tr>\n",
       "    <tr>\n",
       "      <th>2</th>\n",
       "      <td>3</td>\n",
       "      <td>google</td>\n",
       "      <td>New York, NY</td>\n",
       "      <td>5.0</td>\n",
       "      <td>5.0</td>\n",
       "      <td>4.0</td>\n",
       "      <td>5.0</td>\n",
       "      <td>5.0</td>\n",
       "      <td>4.0</td>\n",
       "      <td>2014</td>\n",
       "      <td>Current Employee</td>\n",
       "      <td>Software Engineer III</td>\n",
       "    </tr>\n",
       "    <tr>\n",
       "      <th>3</th>\n",
       "      <td>4</td>\n",
       "      <td>google</td>\n",
       "      <td>Mountain View, CA</td>\n",
       "      <td>5.0</td>\n",
       "      <td>2.0</td>\n",
       "      <td>5.0</td>\n",
       "      <td>5.0</td>\n",
       "      <td>4.0</td>\n",
       "      <td>5.0</td>\n",
       "      <td>2015</td>\n",
       "      <td>Current Employee</td>\n",
       "      <td>Anonymous Employee</td>\n",
       "    </tr>\n",
       "    <tr>\n",
       "      <th>4</th>\n",
       "      <td>5</td>\n",
       "      <td>google</td>\n",
       "      <td>Los Angeles, CA</td>\n",
       "      <td>5.0</td>\n",
       "      <td>5.0</td>\n",
       "      <td>5.0</td>\n",
       "      <td>5.0</td>\n",
       "      <td>5.0</td>\n",
       "      <td>5.0</td>\n",
       "      <td>2018</td>\n",
       "      <td>Former Employee</td>\n",
       "      <td>Software Engineer</td>\n",
       "    </tr>\n",
       "  </tbody>\n",
       "</table>\n",
       "</div>"
      ],
      "text/plain": [
       "   0 company           location  overall wk_bal culture_val career_opp  \\\n",
       "0  1  google               none      5.0    4.0         5.0        5.0   \n",
       "1  2  google  Mountain View, CA      4.0    2.0         3.0        3.0   \n",
       "2  3  google       New York, NY      5.0    5.0         4.0        5.0   \n",
       "3  4  google  Mountain View, CA      5.0    2.0         5.0        5.0   \n",
       "4  5  google    Los Angeles, CA      5.0    5.0         5.0        5.0   \n",
       "\n",
       "  comp_benefit Sr_mgmt  year            status               position  \n",
       "0          4.0     5.0  2018  Current Employee     Anonymous Employee  \n",
       "1          5.0     3.0  2013   Former Employee        Program Manager  \n",
       "2          5.0     4.0  2014  Current Employee  Software Engineer III  \n",
       "3          4.0     5.0  2015  Current Employee     Anonymous Employee  \n",
       "4          5.0     5.0  2018   Former Employee      Software Engineer  "
      ]
     },
     "execution_count": 6,
     "metadata": {},
     "output_type": "execute_result"
    }
   ],
   "source": [
    "# split the 'title' column into 'status' and 'position' columns\n",
    "# drop the 'title' column\n",
    "a= df1['title'].str.split( \" - \", expand=True)\n",
    "df1['status']=a[0]\n",
    "df1['position']=a[1]\n",
    "df2=df1.drop(['title'], axis=1)\n",
    "df2.head()\n",
    "\n"
   ]
  },
  {
   "cell_type": "code",
   "execution_count": 7,
   "metadata": {},
   "outputs": [
    {
     "data": {
      "text/html": [
       "<div>\n",
       "<style scoped>\n",
       "    .dataframe tbody tr th:only-of-type {\n",
       "        vertical-align: middle;\n",
       "    }\n",
       "\n",
       "    .dataframe tbody tr th {\n",
       "        vertical-align: top;\n",
       "    }\n",
       "\n",
       "    .dataframe thead th {\n",
       "        text-align: right;\n",
       "    }\n",
       "</style>\n",
       "<table border=\"1\" class=\"dataframe\">\n",
       "  <thead>\n",
       "    <tr style=\"text-align: right;\">\n",
       "      <th></th>\n",
       "      <th>0</th>\n",
       "      <th>company</th>\n",
       "      <th>location</th>\n",
       "      <th>year</th>\n",
       "      <th>status</th>\n",
       "      <th>position</th>\n",
       "      <th>overall</th>\n",
       "      <th>wk_bal</th>\n",
       "      <th>culture_val</th>\n",
       "      <th>career_opp</th>\n",
       "      <th>comp_benefit</th>\n",
       "      <th>Sr_mgmt</th>\n",
       "    </tr>\n",
       "  </thead>\n",
       "  <tbody>\n",
       "    <tr>\n",
       "      <th>0</th>\n",
       "      <td>1</td>\n",
       "      <td>google</td>\n",
       "      <td>none</td>\n",
       "      <td>2018</td>\n",
       "      <td>Current Employee</td>\n",
       "      <td>Anonymous Employee</td>\n",
       "      <td>5.0</td>\n",
       "      <td>4.0</td>\n",
       "      <td>5.0</td>\n",
       "      <td>5.0</td>\n",
       "      <td>4.0</td>\n",
       "      <td>5.0</td>\n",
       "    </tr>\n",
       "    <tr>\n",
       "      <th>1</th>\n",
       "      <td>2</td>\n",
       "      <td>google</td>\n",
       "      <td>Mountain View, CA</td>\n",
       "      <td>2013</td>\n",
       "      <td>Former Employee</td>\n",
       "      <td>Program Manager</td>\n",
       "      <td>4.0</td>\n",
       "      <td>2.0</td>\n",
       "      <td>3.0</td>\n",
       "      <td>3.0</td>\n",
       "      <td>5.0</td>\n",
       "      <td>3.0</td>\n",
       "    </tr>\n",
       "    <tr>\n",
       "      <th>2</th>\n",
       "      <td>3</td>\n",
       "      <td>google</td>\n",
       "      <td>New York, NY</td>\n",
       "      <td>2014</td>\n",
       "      <td>Current Employee</td>\n",
       "      <td>Software Engineer III</td>\n",
       "      <td>5.0</td>\n",
       "      <td>5.0</td>\n",
       "      <td>4.0</td>\n",
       "      <td>5.0</td>\n",
       "      <td>5.0</td>\n",
       "      <td>4.0</td>\n",
       "    </tr>\n",
       "    <tr>\n",
       "      <th>3</th>\n",
       "      <td>4</td>\n",
       "      <td>google</td>\n",
       "      <td>Mountain View, CA</td>\n",
       "      <td>2015</td>\n",
       "      <td>Current Employee</td>\n",
       "      <td>Anonymous Employee</td>\n",
       "      <td>5.0</td>\n",
       "      <td>2.0</td>\n",
       "      <td>5.0</td>\n",
       "      <td>5.0</td>\n",
       "      <td>4.0</td>\n",
       "      <td>5.0</td>\n",
       "    </tr>\n",
       "    <tr>\n",
       "      <th>4</th>\n",
       "      <td>5</td>\n",
       "      <td>google</td>\n",
       "      <td>Los Angeles, CA</td>\n",
       "      <td>2018</td>\n",
       "      <td>Former Employee</td>\n",
       "      <td>Software Engineer</td>\n",
       "      <td>5.0</td>\n",
       "      <td>5.0</td>\n",
       "      <td>5.0</td>\n",
       "      <td>5.0</td>\n",
       "      <td>5.0</td>\n",
       "      <td>5.0</td>\n",
       "    </tr>\n",
       "  </tbody>\n",
       "</table>\n",
       "</div>"
      ],
      "text/plain": [
       "   0 company           location  year            status  \\\n",
       "0  1  google               none  2018  Current Employee   \n",
       "1  2  google  Mountain View, CA  2013   Former Employee   \n",
       "2  3  google       New York, NY  2014  Current Employee   \n",
       "3  4  google  Mountain View, CA  2015  Current Employee   \n",
       "4  5  google    Los Angeles, CA  2018   Former Employee   \n",
       "\n",
       "                position  overall wk_bal culture_val career_opp comp_benefit  \\\n",
       "0     Anonymous Employee      5.0    4.0         5.0        5.0          4.0   \n",
       "1        Program Manager      4.0    2.0         3.0        3.0          5.0   \n",
       "2  Software Engineer III      5.0    5.0         4.0        5.0          5.0   \n",
       "3     Anonymous Employee      5.0    2.0         5.0        5.0          4.0   \n",
       "4      Software Engineer      5.0    5.0         5.0        5.0          5.0   \n",
       "\n",
       "  Sr_mgmt  \n",
       "0     5.0  \n",
       "1     3.0  \n",
       "2     4.0  \n",
       "3     5.0  \n",
       "4     5.0  "
      ]
     },
     "execution_count": 7,
     "metadata": {},
     "output_type": "execute_result"
    }
   ],
   "source": [
    "#  reorder the columns (dropped '0' column)\n",
    "df2=df2[['0','company', 'location','year','status','position','overall',         'wk_bal','culture_val','career_opp','comp_benefit','Sr_mgmt']]\n",
    "df2.to_csv(\"FANG_plus.csv\", encoding=\"utf-8\", index=False)# 'overall' column is the only float64\n",
    "df2.head()\n"
   ]
  },
  {
   "cell_type": "markdown",
   "metadata": {},
   "source": [
    " ##  a) work_balance_ratings"
   ]
  },
  {
   "cell_type": "markdown",
   "metadata": {},
   "source": [
    " #####  final sample size (60366) after removal of 'none' (7160)"
   ]
  },
  {
   "cell_type": "code",
   "execution_count": 8,
   "metadata": {},
   "outputs": [
    {
     "name": "stderr",
     "output_type": "stream",
     "text": [
      "C:\\Users\\crist\\Anaconda3\\envs\\PythonData\\lib\\site-packages\\ipykernel_launcher.py:2: SettingWithCopyWarning: \n",
      "A value is trying to be set on a copy of a slice from a DataFrame.\n",
      "Try using .loc[row_indexer,col_indexer] = value instead\n",
      "\n",
      "See the caveats in the documentation: http://pandas.pydata.org/pandas-docs/stable/indexing.html#indexing-view-versus-copy\n",
      "  \n"
     ]
    }
   ],
   "source": [
    "df_a=df2[df2['wk_bal'] !='none'] #7160 counts of 'none'\n",
    "df_a[\"wk_bal\"] = pd.to_numeric(df_a['wk_bal'], errors='coerce')# do not fill the NaN  with 0's\n",
    "\n",
    "#df_a['wk_bal'].dtype\n",
    "#df_a.dtypes\n",
    "#df_a[\"wk_bal\"].unique()\n",
    "\n"
   ]
  },
  {
   "cell_type": "code",
   "execution_count": 9,
   "metadata": {},
   "outputs": [
    {
     "data": {
      "text/html": [
       "<div>\n",
       "<style scoped>\n",
       "    .dataframe tbody tr th:only-of-type {\n",
       "        vertical-align: middle;\n",
       "    }\n",
       "\n",
       "    .dataframe tbody tr th {\n",
       "        vertical-align: top;\n",
       "    }\n",
       "\n",
       "    .dataframe thead th {\n",
       "        text-align: right;\n",
       "    }\n",
       "</style>\n",
       "<table border=\"1\" class=\"dataframe\">\n",
       "  <thead>\n",
       "    <tr style=\"text-align: right;\">\n",
       "      <th>company</th>\n",
       "      <th>amazon</th>\n",
       "      <th>apple</th>\n",
       "      <th>facebook</th>\n",
       "      <th>google</th>\n",
       "      <th>microsoft</th>\n",
       "      <th>netflix</th>\n",
       "    </tr>\n",
       "    <tr>\n",
       "      <th>year</th>\n",
       "      <th></th>\n",
       "      <th></th>\n",
       "      <th></th>\n",
       "      <th></th>\n",
       "      <th></th>\n",
       "      <th></th>\n",
       "    </tr>\n",
       "  </thead>\n",
       "  <tbody>\n",
       "    <tr>\n",
       "      <th>2008</th>\n",
       "      <td>220</td>\n",
       "      <td>326</td>\n",
       "      <td>7</td>\n",
       "      <td>191</td>\n",
       "      <td>571</td>\n",
       "      <td>50</td>\n",
       "    </tr>\n",
       "    <tr>\n",
       "      <th>2009</th>\n",
       "      <td>168</td>\n",
       "      <td>202</td>\n",
       "      <td>8</td>\n",
       "      <td>134</td>\n",
       "      <td>329</td>\n",
       "      <td>88</td>\n",
       "    </tr>\n",
       "    <tr>\n",
       "      <th>2010</th>\n",
       "      <td>168</td>\n",
       "      <td>238</td>\n",
       "      <td>33</td>\n",
       "      <td>164</td>\n",
       "      <td>474</td>\n",
       "      <td>53</td>\n",
       "    </tr>\n",
       "    <tr>\n",
       "      <th>2011</th>\n",
       "      <td>255</td>\n",
       "      <td>381</td>\n",
       "      <td>24</td>\n",
       "      <td>198</td>\n",
       "      <td>812</td>\n",
       "      <td>40</td>\n",
       "    </tr>\n",
       "    <tr>\n",
       "      <th>2012</th>\n",
       "      <td>521</td>\n",
       "      <td>467</td>\n",
       "      <td>203</td>\n",
       "      <td>324</td>\n",
       "      <td>1441</td>\n",
       "      <td>56</td>\n",
       "    </tr>\n",
       "    <tr>\n",
       "      <th>2013</th>\n",
       "      <td>762</td>\n",
       "      <td>783</td>\n",
       "      <td>75</td>\n",
       "      <td>376</td>\n",
       "      <td>1497</td>\n",
       "      <td>54</td>\n",
       "    </tr>\n",
       "    <tr>\n",
       "      <th>2014</th>\n",
       "      <td>1288</td>\n",
       "      <td>1253</td>\n",
       "      <td>129</td>\n",
       "      <td>651</td>\n",
       "      <td>1994</td>\n",
       "      <td>62</td>\n",
       "    </tr>\n",
       "    <tr>\n",
       "      <th>2015</th>\n",
       "      <td>2840</td>\n",
       "      <td>1999</td>\n",
       "      <td>216</td>\n",
       "      <td>1138</td>\n",
       "      <td>2693</td>\n",
       "      <td>99</td>\n",
       "    </tr>\n",
       "    <tr>\n",
       "      <th>2016</th>\n",
       "      <td>3850</td>\n",
       "      <td>2292</td>\n",
       "      <td>239</td>\n",
       "      <td>1108</td>\n",
       "      <td>2496</td>\n",
       "      <td>83</td>\n",
       "    </tr>\n",
       "    <tr>\n",
       "      <th>2017</th>\n",
       "      <td>6442</td>\n",
       "      <td>2108</td>\n",
       "      <td>317</td>\n",
       "      <td>1202</td>\n",
       "      <td>2241</td>\n",
       "      <td>87</td>\n",
       "    </tr>\n",
       "    <tr>\n",
       "      <th>2018</th>\n",
       "      <td>7094</td>\n",
       "      <td>1677</td>\n",
       "      <td>300</td>\n",
       "      <td>1031</td>\n",
       "      <td>1656</td>\n",
       "      <td>87</td>\n",
       "    </tr>\n",
       "  </tbody>\n",
       "</table>\n",
       "</div>"
      ],
      "text/plain": [
       "company  amazon  apple  facebook  google  microsoft  netflix\n",
       "year                                                        \n",
       "2008        220    326         7     191        571       50\n",
       "2009        168    202         8     134        329       88\n",
       "2010        168    238        33     164        474       53\n",
       "2011        255    381        24     198        812       40\n",
       "2012        521    467       203     324       1441       56\n",
       "2013        762    783        75     376       1497       54\n",
       "2014       1288   1253       129     651       1994       62\n",
       "2015       2840   1999       216    1138       2693       99\n",
       "2016       3850   2292       239    1108       2496       83\n",
       "2017       6442   2108       317    1202       2241       87\n",
       "2018       7094   1677       300    1031       1656       87"
      ]
     },
     "execution_count": 9,
     "metadata": {},
     "output_type": "execute_result"
    }
   ],
   "source": [
    "# count the sample by company\n",
    "count_sample(df_a, 'wk_bal')\n",
    "\n"
   ]
  },
  {
   "cell_type": "code",
   "execution_count": 10,
   "metadata": {},
   "outputs": [
    {
     "data": {
      "image/png": "[encoded data removed]",
      "text/plain": [
       "<Figure size 432x288 with 1 Axes>"
      ]
     },
     "metadata": {
      "needs_background": "light"
     },
     "output_type": "display_data"
    },
    {
     "data": {
      "text/plain": [
       "<Figure size 432x288 with 0 Axes>"
      ]
     },
     "metadata": {},
     "output_type": "display_data"
    }
   ],
   "source": [
    "# calculate means and sems, and draw a chart\n",
    "draw_chart(plt,calc_means(df_a, 'wk_bal'), calc_sems(df_a, 'wk_bal'))\n",
    "print_label(plt,\"Work Balance Ratings\")\n"
   ]
  },
  {
   "cell_type": "markdown",
   "metadata": {},
   "source": [
    " ##   b)  Culture_value ratings"
   ]
  },
  {
   "cell_type": "markdown",
   "metadata": {},
   "source": [
    " #####  i) final sample size (53980) after removal of 'none' (13546)\n",
    " #####  ii) no data in 2008-2011"
   ]
  },
  {
   "cell_type": "code",
   "execution_count": 11,
   "metadata": {},
   "outputs": [
    {
     "name": "stderr",
     "output_type": "stream",
     "text": [
      "C:\\Users\\crist\\Anaconda3\\envs\\PythonData\\lib\\site-packages\\ipykernel_launcher.py:2: SettingWithCopyWarning: \n",
      "A value is trying to be set on a copy of a slice from a DataFrame.\n",
      "Try using .loc[row_indexer,col_indexer] = value instead\n",
      "\n",
      "See the caveats in the documentation: http://pandas.pydata.org/pandas-docs/stable/indexing.html#indexing-view-versus-copy\n",
      "  \n"
     ]
    }
   ],
   "source": [
    "df_b=df2[df2['culture_val'] !='none'] # 13546 counts of 'none'\n",
    "df_b['culture_val'] = pd.to_numeric(df_b['culture_val'], errors='coerce') # do not fill the NaN  with 0's\n",
    "\n",
    "#df2[df2['culture_val'] =='none'].count()\n",
    "#df_b['culture_val'].value_counts()\n",
    " #5.0    21536\n",
    " #4.0    13683\n",
    " #3.0     9192\n",
    " #1.0     4839\n",
    " #2.0     4730\n",
    "\n"
   ]
  },
  {
   "cell_type": "code",
   "execution_count": 12,
   "metadata": {},
   "outputs": [
    {
     "data": {
      "text/html": [
       "<div>\n",
       "<style scoped>\n",
       "    .dataframe tbody tr th:only-of-type {\n",
       "        vertical-align: middle;\n",
       "    }\n",
       "\n",
       "    .dataframe tbody tr th {\n",
       "        vertical-align: top;\n",
       "    }\n",
       "\n",
       "    .dataframe thead th {\n",
       "        text-align: right;\n",
       "    }\n",
       "</style>\n",
       "<table border=\"1\" class=\"dataframe\">\n",
       "  <thead>\n",
       "    <tr style=\"text-align: right;\">\n",
       "      <th>company</th>\n",
       "      <th>amazon</th>\n",
       "      <th>apple</th>\n",
       "      <th>facebook</th>\n",
       "      <th>google</th>\n",
       "      <th>microsoft</th>\n",
       "      <th>netflix</th>\n",
       "    </tr>\n",
       "    <tr>\n",
       "      <th>year</th>\n",
       "      <th></th>\n",
       "      <th></th>\n",
       "      <th></th>\n",
       "      <th></th>\n",
       "      <th></th>\n",
       "      <th></th>\n",
       "    </tr>\n",
       "  </thead>\n",
       "  <tbody>\n",
       "    <tr>\n",
       "      <th>2012</th>\n",
       "      <td>364</td>\n",
       "      <td>300</td>\n",
       "      <td>177</td>\n",
       "      <td>224</td>\n",
       "      <td>1006</td>\n",
       "      <td>37</td>\n",
       "    </tr>\n",
       "    <tr>\n",
       "      <th>2013</th>\n",
       "      <td>758</td>\n",
       "      <td>782</td>\n",
       "      <td>74</td>\n",
       "      <td>374</td>\n",
       "      <td>1496</td>\n",
       "      <td>53</td>\n",
       "    </tr>\n",
       "    <tr>\n",
       "      <th>2014</th>\n",
       "      <td>1281</td>\n",
       "      <td>1250</td>\n",
       "      <td>130</td>\n",
       "      <td>648</td>\n",
       "      <td>1987</td>\n",
       "      <td>59</td>\n",
       "    </tr>\n",
       "    <tr>\n",
       "      <th>2015</th>\n",
       "      <td>2823</td>\n",
       "      <td>1989</td>\n",
       "      <td>218</td>\n",
       "      <td>1133</td>\n",
       "      <td>2682</td>\n",
       "      <td>99</td>\n",
       "    </tr>\n",
       "    <tr>\n",
       "      <th>2016</th>\n",
       "      <td>3802</td>\n",
       "      <td>2280</td>\n",
       "      <td>238</td>\n",
       "      <td>1101</td>\n",
       "      <td>2478</td>\n",
       "      <td>80</td>\n",
       "    </tr>\n",
       "    <tr>\n",
       "      <th>2017</th>\n",
       "      <td>6373</td>\n",
       "      <td>2099</td>\n",
       "      <td>317</td>\n",
       "      <td>1193</td>\n",
       "      <td>2220</td>\n",
       "      <td>87</td>\n",
       "    </tr>\n",
       "    <tr>\n",
       "      <th>2018</th>\n",
       "      <td>7033</td>\n",
       "      <td>1673</td>\n",
       "      <td>300</td>\n",
       "      <td>1028</td>\n",
       "      <td>1646</td>\n",
       "      <td>87</td>\n",
       "    </tr>\n",
       "  </tbody>\n",
       "</table>\n",
       "</div>"
      ],
      "text/plain": [
       "company  amazon  apple  facebook  google  microsoft  netflix\n",
       "year                                                        \n",
       "2012        364    300       177     224       1006       37\n",
       "2013        758    782        74     374       1496       53\n",
       "2014       1281   1250       130     648       1987       59\n",
       "2015       2823   1989       218    1133       2682       99\n",
       "2016       3802   2280       238    1101       2478       80\n",
       "2017       6373   2099       317    1193       2220       87\n",
       "2018       7033   1673       300    1028       1646       87"
      ]
     },
     "execution_count": 12,
     "metadata": {},
     "output_type": "execute_result"
    }
   ],
   "source": [
    "# count the samples by company\n",
    "count_sample(df_b, 'culture_val')\n",
    "\n"
   ]
  },
  {
   "cell_type": "code",
   "execution_count": 13,
   "metadata": {},
   "outputs": [
    {
     "data": {
      "image/png": "[encoded data removed]",
      "text/plain": [
       "<Figure size 432x288 with 1 Axes>"
      ]
     },
     "metadata": {
      "needs_background": "light"
     },
     "output_type": "display_data"
    },
    {
     "data": {
      "text/plain": [
       "<Figure size 432x288 with 0 Axes>"
      ]
     },
     "metadata": {},
     "output_type": "display_data"
    }
   ],
   "source": [
    "# calculate means and sems, and draw a chart\n",
    "draw_chart2(plt,calc_means(df_b, 'culture_val'), calc_sems(df_b, 'culture_val'))\n",
    "print_label(plt,\"Culture Value Ratings\")\n"
   ]
  },
  {
   "cell_type": "markdown",
   "metadata": {},
   "source": [
    " ##   c) Career-opportunity ratings"
   ]
  },
  {
   "cell_type": "markdown",
   "metadata": {},
   "source": [
    " #####    final sample size (60418) after removal of 'none' (7108)"
   ]
  },
  {
   "cell_type": "code",
   "execution_count": 14,
   "metadata": {},
   "outputs": [
    {
     "name": "stderr",
     "output_type": "stream",
     "text": [
      "C:\\Users\\crist\\Anaconda3\\envs\\PythonData\\lib\\site-packages\\ipykernel_launcher.py:2: SettingWithCopyWarning: \n",
      "A value is trying to be set on a copy of a slice from a DataFrame.\n",
      "Try using .loc[row_indexer,col_indexer] = value instead\n",
      "\n",
      "See the caveats in the documentation: http://pandas.pydata.org/pandas-docs/stable/indexing.html#indexing-view-versus-copy\n",
      "  \n"
     ]
    }
   ],
   "source": [
    "df_c=df2[df2['career_opp'] !='none'] # 7108 counts of 'none'\n",
    "df_c['career_opp'] = pd.to_numeric(df_c['career_opp'], errors='coerce') # do not fill the NaN  with 0's\n",
    "\n"
   ]
  },
  {
   "cell_type": "code",
   "execution_count": 15,
   "metadata": {},
   "outputs": [
    {
     "data": {
      "text/html": [
       "<div>\n",
       "<style scoped>\n",
       "    .dataframe tbody tr th:only-of-type {\n",
       "        vertical-align: middle;\n",
       "    }\n",
       "\n",
       "    .dataframe tbody tr th {\n",
       "        vertical-align: top;\n",
       "    }\n",
       "\n",
       "    .dataframe thead th {\n",
       "        text-align: right;\n",
       "    }\n",
       "</style>\n",
       "<table border=\"1\" class=\"dataframe\">\n",
       "  <thead>\n",
       "    <tr style=\"text-align: right;\">\n",
       "      <th>company</th>\n",
       "      <th>amazon</th>\n",
       "      <th>apple</th>\n",
       "      <th>facebook</th>\n",
       "      <th>google</th>\n",
       "      <th>microsoft</th>\n",
       "      <th>netflix</th>\n",
       "    </tr>\n",
       "    <tr>\n",
       "      <th>year</th>\n",
       "      <th></th>\n",
       "      <th></th>\n",
       "      <th></th>\n",
       "      <th></th>\n",
       "      <th></th>\n",
       "      <th></th>\n",
       "    </tr>\n",
       "  </thead>\n",
       "  <tbody>\n",
       "    <tr>\n",
       "      <th>2008</th>\n",
       "      <td>220</td>\n",
       "      <td>326</td>\n",
       "      <td>7</td>\n",
       "      <td>191</td>\n",
       "      <td>571</td>\n",
       "      <td>50</td>\n",
       "    </tr>\n",
       "    <tr>\n",
       "      <th>2009</th>\n",
       "      <td>168</td>\n",
       "      <td>202</td>\n",
       "      <td>8</td>\n",
       "      <td>134</td>\n",
       "      <td>329</td>\n",
       "      <td>88</td>\n",
       "    </tr>\n",
       "    <tr>\n",
       "      <th>2010</th>\n",
       "      <td>168</td>\n",
       "      <td>238</td>\n",
       "      <td>33</td>\n",
       "      <td>164</td>\n",
       "      <td>474</td>\n",
       "      <td>53</td>\n",
       "    </tr>\n",
       "    <tr>\n",
       "      <th>2011</th>\n",
       "      <td>255</td>\n",
       "      <td>381</td>\n",
       "      <td>24</td>\n",
       "      <td>198</td>\n",
       "      <td>812</td>\n",
       "      <td>40</td>\n",
       "    </tr>\n",
       "    <tr>\n",
       "      <th>2012</th>\n",
       "      <td>519</td>\n",
       "      <td>476</td>\n",
       "      <td>203</td>\n",
       "      <td>326</td>\n",
       "      <td>1455</td>\n",
       "      <td>56</td>\n",
       "    </tr>\n",
       "    <tr>\n",
       "      <th>2013</th>\n",
       "      <td>761</td>\n",
       "      <td>779</td>\n",
       "      <td>75</td>\n",
       "      <td>375</td>\n",
       "      <td>1496</td>\n",
       "      <td>53</td>\n",
       "    </tr>\n",
       "    <tr>\n",
       "      <th>2014</th>\n",
       "      <td>1288</td>\n",
       "      <td>1254</td>\n",
       "      <td>130</td>\n",
       "      <td>653</td>\n",
       "      <td>1994</td>\n",
       "      <td>60</td>\n",
       "    </tr>\n",
       "    <tr>\n",
       "      <th>2015</th>\n",
       "      <td>2841</td>\n",
       "      <td>1999</td>\n",
       "      <td>216</td>\n",
       "      <td>1141</td>\n",
       "      <td>2684</td>\n",
       "      <td>100</td>\n",
       "    </tr>\n",
       "    <tr>\n",
       "      <th>2016</th>\n",
       "      <td>3861</td>\n",
       "      <td>2292</td>\n",
       "      <td>236</td>\n",
       "      <td>1114</td>\n",
       "      <td>2492</td>\n",
       "      <td>80</td>\n",
       "    </tr>\n",
       "    <tr>\n",
       "      <th>2017</th>\n",
       "      <td>6442</td>\n",
       "      <td>2113</td>\n",
       "      <td>317</td>\n",
       "      <td>1206</td>\n",
       "      <td>2234</td>\n",
       "      <td>87</td>\n",
       "    </tr>\n",
       "    <tr>\n",
       "      <th>2018</th>\n",
       "      <td>7108</td>\n",
       "      <td>1679</td>\n",
       "      <td>298</td>\n",
       "      <td>1046</td>\n",
       "      <td>1657</td>\n",
       "      <td>87</td>\n",
       "    </tr>\n",
       "  </tbody>\n",
       "</table>\n",
       "</div>"
      ],
      "text/plain": [
       "company  amazon  apple  facebook  google  microsoft  netflix\n",
       "year                                                        \n",
       "2008        220    326         7     191        571       50\n",
       "2009        168    202         8     134        329       88\n",
       "2010        168    238        33     164        474       53\n",
       "2011        255    381        24     198        812       40\n",
       "2012        519    476       203     326       1455       56\n",
       "2013        761    779        75     375       1496       53\n",
       "2014       1288   1254       130     653       1994       60\n",
       "2015       2841   1999       216    1141       2684      100\n",
       "2016       3861   2292       236    1114       2492       80\n",
       "2017       6442   2113       317    1206       2234       87\n",
       "2018       7108   1679       298    1046       1657       87"
      ]
     },
     "execution_count": 15,
     "metadata": {},
     "output_type": "execute_result"
    }
   ],
   "source": [
    "# count the samples by company\n",
    "count_sample(df_c, 'career_opp')\n",
    "\n"
   ]
  },
  {
   "cell_type": "code",
   "execution_count": 16,
   "metadata": {},
   "outputs": [
    {
     "data": {
      "image/png": "[encoded data removed]",
      "text/plain": [
       "<Figure size 432x288 with 1 Axes>"
      ]
     },
     "metadata": {
      "needs_background": "light"
     },
     "output_type": "display_data"
    },
    {
     "data": {
      "text/plain": [
       "<Figure size 432x288 with 0 Axes>"
      ]
     },
     "metadata": {},
     "output_type": "display_data"
    }
   ],
   "source": [
    "# calculate means and sems, and draw a chart\n",
    "draw_chart(plt,calc_means(df_c, 'career_opp'), calc_sems(df_c, 'career_opp'))\n",
    "print_label(plt,\"Career Opportunity Ratings\")\n"
   ]
  },
  {
   "cell_type": "markdown",
   "metadata": {},
   "source": [
    " ##  d) comp_benefit Ratings"
   ]
  },
  {
   "cell_type": "markdown",
   "metadata": {},
   "source": [
    " ##### final sample size (60365) after removal of 'none' (7161)"
   ]
  },
  {
   "cell_type": "code",
   "execution_count": 17,
   "metadata": {},
   "outputs": [
    {
     "name": "stderr",
     "output_type": "stream",
     "text": [
      "C:\\Users\\crist\\Anaconda3\\envs\\PythonData\\lib\\site-packages\\ipykernel_launcher.py:2: SettingWithCopyWarning: \n",
      "A value is trying to be set on a copy of a slice from a DataFrame.\n",
      "Try using .loc[row_indexer,col_indexer] = value instead\n",
      "\n",
      "See the caveats in the documentation: http://pandas.pydata.org/pandas-docs/stable/indexing.html#indexing-view-versus-copy\n",
      "  \n"
     ]
    }
   ],
   "source": [
    "df_d=df2[df2['comp_benefit'] !='none'] #7161 counts of 'none'\n",
    "df_d['comp_benefit'] = pd.to_numeric(df_d['comp_benefit'], errors='coerce') # do not fill the NaN  with 0's\n",
    "\n"
   ]
  },
  {
   "cell_type": "code",
   "execution_count": 18,
   "metadata": {},
   "outputs": [
    {
     "data": {
      "text/html": [
       "<div>\n",
       "<style scoped>\n",
       "    .dataframe tbody tr th:only-of-type {\n",
       "        vertical-align: middle;\n",
       "    }\n",
       "\n",
       "    .dataframe tbody tr th {\n",
       "        vertical-align: top;\n",
       "    }\n",
       "\n",
       "    .dataframe thead th {\n",
       "        text-align: right;\n",
       "    }\n",
       "</style>\n",
       "<table border=\"1\" class=\"dataframe\">\n",
       "  <thead>\n",
       "    <tr style=\"text-align: right;\">\n",
       "      <th>company</th>\n",
       "      <th>amazon</th>\n",
       "      <th>apple</th>\n",
       "      <th>facebook</th>\n",
       "      <th>google</th>\n",
       "      <th>microsoft</th>\n",
       "      <th>netflix</th>\n",
       "    </tr>\n",
       "    <tr>\n",
       "      <th>year</th>\n",
       "      <th></th>\n",
       "      <th></th>\n",
       "      <th></th>\n",
       "      <th></th>\n",
       "      <th></th>\n",
       "      <th></th>\n",
       "    </tr>\n",
       "  </thead>\n",
       "  <tbody>\n",
       "    <tr>\n",
       "      <th>2008</th>\n",
       "      <td>220</td>\n",
       "      <td>326</td>\n",
       "      <td>7</td>\n",
       "      <td>191</td>\n",
       "      <td>571</td>\n",
       "      <td>50</td>\n",
       "    </tr>\n",
       "    <tr>\n",
       "      <th>2009</th>\n",
       "      <td>168</td>\n",
       "      <td>202</td>\n",
       "      <td>8</td>\n",
       "      <td>134</td>\n",
       "      <td>329</td>\n",
       "      <td>88</td>\n",
       "    </tr>\n",
       "    <tr>\n",
       "      <th>2010</th>\n",
       "      <td>168</td>\n",
       "      <td>238</td>\n",
       "      <td>33</td>\n",
       "      <td>164</td>\n",
       "      <td>474</td>\n",
       "      <td>53</td>\n",
       "    </tr>\n",
       "    <tr>\n",
       "      <th>2011</th>\n",
       "      <td>255</td>\n",
       "      <td>381</td>\n",
       "      <td>24</td>\n",
       "      <td>198</td>\n",
       "      <td>812</td>\n",
       "      <td>40</td>\n",
       "    </tr>\n",
       "    <tr>\n",
       "      <th>2012</th>\n",
       "      <td>521</td>\n",
       "      <td>467</td>\n",
       "      <td>203</td>\n",
       "      <td>322</td>\n",
       "      <td>1450</td>\n",
       "      <td>56</td>\n",
       "    </tr>\n",
       "    <tr>\n",
       "      <th>2013</th>\n",
       "      <td>762</td>\n",
       "      <td>782</td>\n",
       "      <td>75</td>\n",
       "      <td>376</td>\n",
       "      <td>1500</td>\n",
       "      <td>54</td>\n",
       "    </tr>\n",
       "    <tr>\n",
       "      <th>2014</th>\n",
       "      <td>1287</td>\n",
       "      <td>1253</td>\n",
       "      <td>130</td>\n",
       "      <td>651</td>\n",
       "      <td>1993</td>\n",
       "      <td>62</td>\n",
       "    </tr>\n",
       "    <tr>\n",
       "      <th>2015</th>\n",
       "      <td>2845</td>\n",
       "      <td>1997</td>\n",
       "      <td>216</td>\n",
       "      <td>1137</td>\n",
       "      <td>2692</td>\n",
       "      <td>99</td>\n",
       "    </tr>\n",
       "    <tr>\n",
       "      <th>2016</th>\n",
       "      <td>3851</td>\n",
       "      <td>2292</td>\n",
       "      <td>238</td>\n",
       "      <td>1108</td>\n",
       "      <td>2492</td>\n",
       "      <td>83</td>\n",
       "    </tr>\n",
       "    <tr>\n",
       "      <th>2017</th>\n",
       "      <td>6443</td>\n",
       "      <td>2111</td>\n",
       "      <td>317</td>\n",
       "      <td>1203</td>\n",
       "      <td>2233</td>\n",
       "      <td>87</td>\n",
       "    </tr>\n",
       "    <tr>\n",
       "      <th>2018</th>\n",
       "      <td>7091</td>\n",
       "      <td>1680</td>\n",
       "      <td>300</td>\n",
       "      <td>1030</td>\n",
       "      <td>1654</td>\n",
       "      <td>87</td>\n",
       "    </tr>\n",
       "  </tbody>\n",
       "</table>\n",
       "</div>"
      ],
      "text/plain": [
       "company  amazon  apple  facebook  google  microsoft  netflix\n",
       "year                                                        \n",
       "2008        220    326         7     191        571       50\n",
       "2009        168    202         8     134        329       88\n",
       "2010        168    238        33     164        474       53\n",
       "2011        255    381        24     198        812       40\n",
       "2012        521    467       203     322       1450       56\n",
       "2013        762    782        75     376       1500       54\n",
       "2014       1287   1253       130     651       1993       62\n",
       "2015       2845   1997       216    1137       2692       99\n",
       "2016       3851   2292       238    1108       2492       83\n",
       "2017       6443   2111       317    1203       2233       87\n",
       "2018       7091   1680       300    1030       1654       87"
      ]
     },
     "execution_count": 18,
     "metadata": {},
     "output_type": "execute_result"
    }
   ],
   "source": [
    "# count the samples by company\n",
    "count_sample(df_d, 'comp_benefit')\n",
    "\n"
   ]
  },
  {
   "cell_type": "code",
   "execution_count": 19,
   "metadata": {},
   "outputs": [
    {
     "data": {
      "image/png": "[encoded data removed]",
      "text/plain": [
       "<Figure size 432x288 with 1 Axes>"
      ]
     },
     "metadata": {
      "needs_background": "light"
     },
     "output_type": "display_data"
    },
    {
     "data": {
      "text/plain": [
       "<Figure size 432x288 with 0 Axes>"
      ]
     },
     "metadata": {},
     "output_type": "display_data"
    }
   ],
   "source": [
    "# calculate means and sems, and draw a chart\n",
    "draw_chart(plt,calc_means(df_d, 'comp_benefit'), calc_sems(df_d, 'comp_benefit'))\n",
    "print_label(plt,\"Comp benefit Ratings\")\n"
   ]
  },
  {
   "cell_type": "markdown",
   "metadata": {},
   "source": [
    " ##   e) Senior Management Ratings"
   ]
  },
  {
   "cell_type": "markdown",
   "metadata": {},
   "source": [
    " ##### final sample size (59751) after removal of 'none' (7775)"
   ]
  },
  {
   "cell_type": "code",
   "execution_count": 20,
   "metadata": {},
   "outputs": [
    {
     "name": "stderr",
     "output_type": "stream",
     "text": [
      "C:\\Users\\crist\\Anaconda3\\envs\\PythonData\\lib\\site-packages\\ipykernel_launcher.py:2: SettingWithCopyWarning: \n",
      "A value is trying to be set on a copy of a slice from a DataFrame.\n",
      "Try using .loc[row_indexer,col_indexer] = value instead\n",
      "\n",
      "See the caveats in the documentation: http://pandas.pydata.org/pandas-docs/stable/indexing.html#indexing-view-versus-copy\n",
      "  \n"
     ]
    }
   ],
   "source": [
    "df_e=df2[df2['Sr_mgmt'] !='none'] # 7775 counts of 'none'\n",
    "df_e['Sr_mgmt'] = pd.to_numeric(df_e['Sr_mgmt'], errors='coerce') # do not fill the NaN  with 0's\n",
    "\n"
   ]
  },
  {
   "cell_type": "code",
   "execution_count": 21,
   "metadata": {},
   "outputs": [
    {
     "data": {
      "text/html": [
       "<div>\n",
       "<style scoped>\n",
       "    .dataframe tbody tr th:only-of-type {\n",
       "        vertical-align: middle;\n",
       "    }\n",
       "\n",
       "    .dataframe tbody tr th {\n",
       "        vertical-align: top;\n",
       "    }\n",
       "\n",
       "    .dataframe thead th {\n",
       "        text-align: right;\n",
       "    }\n",
       "</style>\n",
       "<table border=\"1\" class=\"dataframe\">\n",
       "  <thead>\n",
       "    <tr style=\"text-align: right;\">\n",
       "      <th>company</th>\n",
       "      <th>amazon</th>\n",
       "      <th>apple</th>\n",
       "      <th>facebook</th>\n",
       "      <th>google</th>\n",
       "      <th>microsoft</th>\n",
       "      <th>netflix</th>\n",
       "    </tr>\n",
       "    <tr>\n",
       "      <th>year</th>\n",
       "      <th></th>\n",
       "      <th></th>\n",
       "      <th></th>\n",
       "      <th></th>\n",
       "      <th></th>\n",
       "      <th></th>\n",
       "    </tr>\n",
       "  </thead>\n",
       "  <tbody>\n",
       "    <tr>\n",
       "      <th>2008</th>\n",
       "      <td>220</td>\n",
       "      <td>326</td>\n",
       "      <td>7</td>\n",
       "      <td>191</td>\n",
       "      <td>571</td>\n",
       "      <td>50</td>\n",
       "    </tr>\n",
       "    <tr>\n",
       "      <th>2009</th>\n",
       "      <td>168</td>\n",
       "      <td>202</td>\n",
       "      <td>8</td>\n",
       "      <td>134</td>\n",
       "      <td>329</td>\n",
       "      <td>88</td>\n",
       "    </tr>\n",
       "    <tr>\n",
       "      <th>2010</th>\n",
       "      <td>168</td>\n",
       "      <td>238</td>\n",
       "      <td>33</td>\n",
       "      <td>164</td>\n",
       "      <td>474</td>\n",
       "      <td>53</td>\n",
       "    </tr>\n",
       "    <tr>\n",
       "      <th>2011</th>\n",
       "      <td>255</td>\n",
       "      <td>381</td>\n",
       "      <td>24</td>\n",
       "      <td>198</td>\n",
       "      <td>812</td>\n",
       "      <td>40</td>\n",
       "    </tr>\n",
       "    <tr>\n",
       "      <th>2012</th>\n",
       "      <td>520</td>\n",
       "      <td>466</td>\n",
       "      <td>202</td>\n",
       "      <td>324</td>\n",
       "      <td>1439</td>\n",
       "      <td>55</td>\n",
       "    </tr>\n",
       "    <tr>\n",
       "      <th>2013</th>\n",
       "      <td>757</td>\n",
       "      <td>781</td>\n",
       "      <td>74</td>\n",
       "      <td>376</td>\n",
       "      <td>1492</td>\n",
       "      <td>53</td>\n",
       "    </tr>\n",
       "    <tr>\n",
       "      <th>2014</th>\n",
       "      <td>1279</td>\n",
       "      <td>1244</td>\n",
       "      <td>130</td>\n",
       "      <td>648</td>\n",
       "      <td>1985</td>\n",
       "      <td>62</td>\n",
       "    </tr>\n",
       "    <tr>\n",
       "      <th>2015</th>\n",
       "      <td>2797</td>\n",
       "      <td>1976</td>\n",
       "      <td>217</td>\n",
       "      <td>1119</td>\n",
       "      <td>2672</td>\n",
       "      <td>99</td>\n",
       "    </tr>\n",
       "    <tr>\n",
       "      <th>2016</th>\n",
       "      <td>3764</td>\n",
       "      <td>2265</td>\n",
       "      <td>238</td>\n",
       "      <td>1085</td>\n",
       "      <td>2472</td>\n",
       "      <td>81</td>\n",
       "    </tr>\n",
       "    <tr>\n",
       "      <th>2017</th>\n",
       "      <td>6331</td>\n",
       "      <td>2092</td>\n",
       "      <td>314</td>\n",
       "      <td>1190</td>\n",
       "      <td>2214</td>\n",
       "      <td>86</td>\n",
       "    </tr>\n",
       "    <tr>\n",
       "      <th>2018</th>\n",
       "      <td>7002</td>\n",
       "      <td>1664</td>\n",
       "      <td>301</td>\n",
       "      <td>1020</td>\n",
       "      <td>1643</td>\n",
       "      <td>87</td>\n",
       "    </tr>\n",
       "  </tbody>\n",
       "</table>\n",
       "</div>"
      ],
      "text/plain": [
       "company  amazon  apple  facebook  google  microsoft  netflix\n",
       "year                                                        \n",
       "2008        220    326         7     191        571       50\n",
       "2009        168    202         8     134        329       88\n",
       "2010        168    238        33     164        474       53\n",
       "2011        255    381        24     198        812       40\n",
       "2012        520    466       202     324       1439       55\n",
       "2013        757    781        74     376       1492       53\n",
       "2014       1279   1244       130     648       1985       62\n",
       "2015       2797   1976       217    1119       2672       99\n",
       "2016       3764   2265       238    1085       2472       81\n",
       "2017       6331   2092       314    1190       2214       86\n",
       "2018       7002   1664       301    1020       1643       87"
      ]
     },
     "execution_count": 21,
     "metadata": {},
     "output_type": "execute_result"
    }
   ],
   "source": [
    "# count the samples by company\n",
    "count_sample(df_e, 'Sr_mgmt')\n",
    "\n"
   ]
  },
  {
   "cell_type": "code",
   "execution_count": 22,
   "metadata": {},
   "outputs": [
    {
     "data": {
      "image/png": "[encoded data removed]",
      "text/plain": [
       "<Figure size 432x288 with 1 Axes>"
      ]
     },
     "metadata": {
      "needs_background": "light"
     },
     "output_type": "display_data"
    },
    {
     "data": {
      "text/plain": [
       "<Figure size 432x288 with 0 Axes>"
      ]
     },
     "metadata": {},
     "output_type": "display_data"
    }
   ],
   "source": [
    "# calculate means and sems, and draw a chart\n",
    "draw_chart(plt,calc_means(df_e, 'Sr_mgmt'), calc_sems(df_e, 'Sr_mgmt'))\n",
    "print_label(plt,\"Senior Management Ratings\")\n"
   ]
  },
  {
   "cell_type": "markdown",
   "metadata": {},
   "source": [
    " ##   f) Overall Ratings"
   ]
  },
  {
   "cell_type": "markdown",
   "metadata": {},
   "source": [
    " #####  final size (67526) -- originally float64 type with 0 'none' value-- no need to be converted to numeric form"
   ]
  },
  {
   "cell_type": "code",
   "execution_count": 23,
   "metadata": {},
   "outputs": [],
   "source": [
    "#df2.dtypes\n",
    "#df2['overall'].dtypes\n",
    "#df2['overall'].value_counts()\n",
    "\n"
   ]
  },
  {
   "cell_type": "code",
   "execution_count": 24,
   "metadata": {},
   "outputs": [
    {
     "data": {
      "text/html": [
       "<div>\n",
       "<style scoped>\n",
       "    .dataframe tbody tr th:only-of-type {\n",
       "        vertical-align: middle;\n",
       "    }\n",
       "\n",
       "    .dataframe tbody tr th {\n",
       "        vertical-align: top;\n",
       "    }\n",
       "\n",
       "    .dataframe thead th {\n",
       "        text-align: right;\n",
       "    }\n",
       "</style>\n",
       "<table border=\"1\" class=\"dataframe\">\n",
       "  <thead>\n",
       "    <tr style=\"text-align: right;\">\n",
       "      <th>company</th>\n",
       "      <th>amazon</th>\n",
       "      <th>apple</th>\n",
       "      <th>facebook</th>\n",
       "      <th>google</th>\n",
       "      <th>microsoft</th>\n",
       "      <th>netflix</th>\n",
       "    </tr>\n",
       "    <tr>\n",
       "      <th>year</th>\n",
       "      <th></th>\n",
       "      <th></th>\n",
       "      <th></th>\n",
       "      <th></th>\n",
       "      <th></th>\n",
       "      <th></th>\n",
       "    </tr>\n",
       "  </thead>\n",
       "  <tbody>\n",
       "    <tr>\n",
       "      <th>2008</th>\n",
       "      <td>220</td>\n",
       "      <td>326</td>\n",
       "      <td>7</td>\n",
       "      <td>191</td>\n",
       "      <td>571</td>\n",
       "      <td>50</td>\n",
       "    </tr>\n",
       "    <tr>\n",
       "      <th>2009</th>\n",
       "      <td>168</td>\n",
       "      <td>202</td>\n",
       "      <td>8</td>\n",
       "      <td>134</td>\n",
       "      <td>329</td>\n",
       "      <td>88</td>\n",
       "    </tr>\n",
       "    <tr>\n",
       "      <th>2010</th>\n",
       "      <td>168</td>\n",
       "      <td>238</td>\n",
       "      <td>33</td>\n",
       "      <td>164</td>\n",
       "      <td>474</td>\n",
       "      <td>53</td>\n",
       "    </tr>\n",
       "    <tr>\n",
       "      <th>2011</th>\n",
       "      <td>255</td>\n",
       "      <td>381</td>\n",
       "      <td>24</td>\n",
       "      <td>198</td>\n",
       "      <td>812</td>\n",
       "      <td>40</td>\n",
       "    </tr>\n",
       "    <tr>\n",
       "      <th>2012</th>\n",
       "      <td>552</td>\n",
       "      <td>503</td>\n",
       "      <td>203</td>\n",
       "      <td>348</td>\n",
       "      <td>1545</td>\n",
       "      <td>59</td>\n",
       "    </tr>\n",
       "    <tr>\n",
       "      <th>2013</th>\n",
       "      <td>818</td>\n",
       "      <td>823</td>\n",
       "      <td>76</td>\n",
       "      <td>439</td>\n",
       "      <td>1646</td>\n",
       "      <td>57</td>\n",
       "    </tr>\n",
       "    <tr>\n",
       "      <th>2014</th>\n",
       "      <td>1405</td>\n",
       "      <td>1378</td>\n",
       "      <td>132</td>\n",
       "      <td>775</td>\n",
       "      <td>2187</td>\n",
       "      <td>64</td>\n",
       "    </tr>\n",
       "    <tr>\n",
       "      <th>2015</th>\n",
       "      <td>3200</td>\n",
       "      <td>2224</td>\n",
       "      <td>223</td>\n",
       "      <td>1378</td>\n",
       "      <td>3011</td>\n",
       "      <td>104</td>\n",
       "    </tr>\n",
       "    <tr>\n",
       "      <th>2016</th>\n",
       "      <td>4386</td>\n",
       "      <td>2562</td>\n",
       "      <td>250</td>\n",
       "      <td>1348</td>\n",
       "      <td>2852</td>\n",
       "      <td>92</td>\n",
       "    </tr>\n",
       "    <tr>\n",
       "      <th>2017</th>\n",
       "      <td>7202</td>\n",
       "      <td>2373</td>\n",
       "      <td>324</td>\n",
       "      <td>1490</td>\n",
       "      <td>2584</td>\n",
       "      <td>102</td>\n",
       "    </tr>\n",
       "    <tr>\n",
       "      <th>2018</th>\n",
       "      <td>8054</td>\n",
       "      <td>1939</td>\n",
       "      <td>310</td>\n",
       "      <td>1354</td>\n",
       "      <td>1919</td>\n",
       "      <td>100</td>\n",
       "    </tr>\n",
       "  </tbody>\n",
       "</table>\n",
       "</div>"
      ],
      "text/plain": [
       "company  amazon  apple  facebook  google  microsoft  netflix\n",
       "year                                                        \n",
       "2008        220    326         7     191        571       50\n",
       "2009        168    202         8     134        329       88\n",
       "2010        168    238        33     164        474       53\n",
       "2011        255    381        24     198        812       40\n",
       "2012        552    503       203     348       1545       59\n",
       "2013        818    823        76     439       1646       57\n",
       "2014       1405   1378       132     775       2187       64\n",
       "2015       3200   2224       223    1378       3011      104\n",
       "2016       4386   2562       250    1348       2852       92\n",
       "2017       7202   2373       324    1490       2584      102\n",
       "2018       8054   1939       310    1354       1919      100"
      ]
     },
     "execution_count": 24,
     "metadata": {},
     "output_type": "execute_result"
    }
   ],
   "source": [
    "# count the samples by company\n",
    "df_f = df2\n",
    "count_sample(df_f, 'overall')\n",
    "\n"
   ]
  },
  {
   "cell_type": "code",
   "execution_count": 25,
   "metadata": {},
   "outputs": [
    {
     "data": {
      "image/png": "[encoded data removed]",
      "text/plain": [
       "<Figure size 432x288 with 1 Axes>"
      ]
     },
     "metadata": {
      "needs_background": "light"
     },
     "output_type": "display_data"
    },
    {
     "data": {
      "text/plain": [
       "<Figure size 432x288 with 0 Axes>"
      ]
     },
     "metadata": {},
     "output_type": "display_data"
    }
   ],
   "source": [
    "# calculate means and sems, and draw a chart\n",
    "draw_chart(plt,calc_means(df_f, 'overall'), calc_sems(df_f, 'overall'))\n",
    "print_label(plt,\"Over-All Ratings\")\n",
    "\n",
    "\n",
    "\n"
   ]
  }
 ],
 "metadata": {
  "file_extension": ".py",
  "kernelspec": {
   "display_name": "Python 3",
   "language": "python",
   "name": "python3"
  },
  "language_info": {
   "codemirror_mode": {
    "name": "ipython",
    "version": 3
   },
   "file_extension": ".py",
   "mimetype": "text/x-python",
   "name": "python",
   "nbconvert_exporter": "python",
   "pygments_lexer": "ipython3",
   "version": "3.7.1"
  },
  "mimetype": "text/x-python",
  "name": "python",
  "npconvert_exporter": "python",
  "pygments_lexer": "ipython3",
  "version": 3
 },
 "nbformat": 4,
 "nbformat_minor": 2
}
