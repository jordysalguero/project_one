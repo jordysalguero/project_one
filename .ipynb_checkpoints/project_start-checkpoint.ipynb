{
 "cells": [
  {
   "cell_type": "code",
   "execution_count": null,
   "metadata": {},
   "outputs": [],
   "source": [
    "# Import Dependencies\n",
    "import pandas as pd\n",
    "from function_creation import draw_chart,draw_chart2, print_label, calc_means, calc_sems, count_sample"
   ]
  },
  {
   "cell_type": "code",
   "execution_count": null,
   "metadata": {},
   "outputs": [],
   "source": [
    "#read, select, and rename the columns\n",
    "df = pd.read_csv(\"employee_reviews.csv\",encoding=\"utf-8\")\n",
    "df=df[['Unnamed: 0','company', 'location','dates','job-title','overall-ratings','work-balance-stars','culture-values-stars','carrer-opportunities-stars','comp-benefit-stars','senior-mangemnet-stars']]\n",
    "df=df.rename(columns={'Unnamed: 0':'0','job-title':'title','overall-ratings':'overall', 'work-balance-stars':'wk_bal','culture-values-stars':'culture_val','carrer-opportunities-stars':'career_opp','comp-benefit-stars':'comp_benefit', 'senior-mangemnet-stars':'Sr_mgmt'})\n",
    "df.head()"
   ]
  },
  {
   "cell_type": "markdown",
   "metadata": {},
   "source": [
    "####   <'dates' column> \n",
    "#####    i)  clean, split, and keep only the 'year' of 'dates' column\n",
    "#####    ii) clean the non-valid data of the 'year' column-- dropped :  '0000's & 'None', total (67526)"
   ]
  },
  {
   "cell_type": "code",
   "execution_count": null,
   "metadata": {},
   "outputs": [],
   "source": [
    "# clean, split, and keep only the year of 'dates' column\n",
    "df['overall'].value_counts()\n",
    "df['dates'].dropna(inplace = True) \n",
    "df[['date','year']]=df['dates'].str.split( \", \", expand=True)\n",
    "df1=df.drop(['dates','date'], axis=1)\n",
    "\n",
    "df1=df1[df1['year'] != '0000'] \n",
    "df1=df1[df1['year'] !=  None]  \n",
    "\n",
    "#df1.head() "
   ]
  },
  {
   "cell_type": "markdown",
   "metadata": {},
   "source": [
    "#####   <'title' coulmn>  :total (67529)\n",
    "#####  i) 'status': Current Emplyee (42540), Former Employee (24989)\n",
    "#####  ii) \"position' : Anonymous Emplyee (27002)"
   ]
  },
  {
   "cell_type": "code",
   "execution_count": null,
   "metadata": {},
   "outputs": [],
   "source": [
    "# split the 'title' column into 'status' and 'position' columns\n",
    "# drop the 'title' column\n",
    "a= df1['title'].str.split( \" - \", expand=True)\n",
    "df1['status']=a[0]\n",
    "df1['position']=a[1]\n",
    "df2=df1.drop(['title'], axis=1)\n",
    "df2.head()"
   ]
  },
  {
   "cell_type": "code",
   "execution_count": null,
   "metadata": {},
   "outputs": [],
   "source": [
    "#  reorder the columns (dropped '0' column)\n",
    "df2=df2[['0','company', 'location','year','status','position','overall',\\\n",
    "         'wk_bal','culture_val','career_opp','comp_benefit','Sr_mgmt']]\n",
    "df2.to_csv(\"FANG_plus.csv\", encoding=\"utf-8\", index=False)# 'overall' column is the only float64\n",
    "df2.head()"
   ]
  },
  {
   "cell_type": "markdown",
   "metadata": {},
   "source": [
    "##  a) work_balance_ratings"
   ]
  },
  {
   "cell_type": "markdown",
   "metadata": {},
   "source": [
    "#####  final sample size (60366) after removal of 'none' (7160) "
   ]
  },
  {
   "cell_type": "code",
   "execution_count": null,
   "metadata": {},
   "outputs": [],
   "source": [
    "df_a=df2[df2['wk_bal'] !='none'] #7160 counts of 'none'\n",
    "df_a[\"wk_bal\"] = pd.to_numeric(df_a['wk_bal'], errors='coerce')# do not fill the NaN  with 0's\n",
    "\n",
    "#df_a['wk_bal'].dtype\n",
    "#df_a.dtypes\n",
    "#df_a[\"wk_bal\"].unique()\n"
   ]
  },
  {
   "cell_type": "code",
   "execution_count": null,
   "metadata": {},
   "outputs": [],
   "source": [
    "# count the sample by company\n",
    "count_sample(df_a, 'wk_bal')"
   ]
  },
  {
   "cell_type": "code",
   "execution_count": null,
   "metadata": {},
   "outputs": [],
   "source": [
    "# calculate means and sems, and draw a chart\n",
    "%matplotlib notebook\n",
    "draw_chart(calc_means(df_a, 'wk_bal'), calc_sems(df_a, 'wk_bal'))\n",
    "print_label(\"Work Balance Ratings\")"
   ]
  },
  {
   "cell_type": "markdown",
   "metadata": {},
   "source": [
    "##   b)  Culture_value ratings"
   ]
  },
  {
   "cell_type": "markdown",
   "metadata": {},
   "source": [
    "#####  i) final sample size (53980) after removal of 'none' (13546)\n",
    "#####  ii) no data in 2008-2011"
   ]
  },
  {
   "cell_type": "code",
   "execution_count": null,
   "metadata": {},
   "outputs": [],
   "source": [
    "df_b=df2[df2['culture_val'] !='none'] # 13546 counts of 'none'\n",
    "df_b['culture_val'] = pd.to_numeric(df_b['culture_val'], errors='coerce') # do not fill the NaN  with 0's\n",
    "\n",
    "#df2[df2['culture_val'] =='none'].count()\n",
    "#df_b['culture_val'].value_counts()\n",
    " #5.0    21536\n",
    " #4.0    13683\n",
    " #3.0     9192\n",
    " #1.0     4839\n",
    " #2.0     4730"
   ]
  },
  {
   "cell_type": "code",
   "execution_count": null,
   "metadata": {},
   "outputs": [],
   "source": [
    "# count the samples by company\n",
    "count_sample(df_b, 'culture_val')"
   ]
  },
  {
   "cell_type": "code",
   "execution_count": null,
   "metadata": {},
   "outputs": [],
   "source": [
    "# calculate means and sems, and draw a chart\n",
    "%matplotlib notebook\n",
    "draw_chart2(calc_means(df_b, 'culture_val'), calc_sems(df_b, 'culture_val'))\n",
    "print_label(\"Culture Value Ratings\")"
   ]
  },
  {
   "cell_type": "markdown",
   "metadata": {},
   "source": [
    "##   c) Career-opportunity ratings"
   ]
  },
  {
   "cell_type": "markdown",
   "metadata": {},
   "source": [
    "#####    final sample size (60418) after removal of 'none' (7108)"
   ]
  },
  {
   "cell_type": "code",
   "execution_count": null,
   "metadata": {},
   "outputs": [],
   "source": [
    "df_c=df2[df2['career_opp'] !='none'] # 7108 counts of 'none'\n",
    "df_c['career_opp'] = pd.to_numeric(df_c['career_opp'], errors='coerce') # do not fill the NaN  with 0's\n"
   ]
  },
  {
   "cell_type": "code",
   "execution_count": null,
   "metadata": {},
   "outputs": [],
   "source": [
    "# count the samples by company\n",
    "count_sample(df_c, 'career_opp')"
   ]
  },
  {
   "cell_type": "code",
   "execution_count": null,
   "metadata": {},
   "outputs": [],
   "source": [
    "# calculate means and sems, and draw a chart\n",
    "%matplotlib notebook\n",
    "draw_chart(calc_means(df_c, 'career_opp'), calc_sems(df_c, 'career_opp'))\n",
    "print_label(\"Career Opportunity Ratings\")"
   ]
  },
  {
   "cell_type": "markdown",
   "metadata": {},
   "source": [
    "##  d) comp_benefit Ratings"
   ]
  },
  {
   "cell_type": "markdown",
   "metadata": {},
   "source": [
    "##### final sample size (60365) after removal of 'none' (7161)"
   ]
  },
  {
   "cell_type": "code",
   "execution_count": null,
   "metadata": {},
   "outputs": [],
   "source": [
    "df_d=df2[df2['comp_benefit'] !='none'] #7161 counts of 'none'\n",
    "df_d['comp_benefit'] = pd.to_numeric(df_d['comp_benefit'], errors='coerce') # do not fill the NaN  with 0's"
   ]
  },
  {
   "cell_type": "code",
   "execution_count": null,
   "metadata": {},
   "outputs": [],
   "source": [
    "# count the samples by company\n",
    "count_sample(df_d, 'comp_benefit')"
   ]
  },
  {
   "cell_type": "code",
   "execution_count": null,
   "metadata": {},
   "outputs": [],
   "source": [
    "# calculate means and sems, and draw a chart\n",
    "%matplotlib notebook\n",
    "draw_chart(calc_means(df_d, 'comp_benefit'), calc_sems(df_d, 'comp_benefit'))\n",
    "print_label(\"Comp benefit Ratings\")"
   ]
  },
  {
   "cell_type": "markdown",
   "metadata": {},
   "source": [
    "##   e) Senior Management Ratings"
   ]
  },
  {
   "cell_type": "markdown",
   "metadata": {},
   "source": [
    "##### final sample size (59751) after removal of 'none' (7775)"
   ]
  },
  {
   "cell_type": "code",
   "execution_count": null,
   "metadata": {},
   "outputs": [],
   "source": [
    "df_e=df2[df2['Sr_mgmt'] !='none'] # 7775 counts of 'none'\n",
    "df_e['Sr_mgmt'] = pd.to_numeric(df_e['Sr_mgmt'], errors='coerce') # do not fill the NaN  with 0's"
   ]
  },
  {
   "cell_type": "code",
   "execution_count": null,
   "metadata": {},
   "outputs": [],
   "source": [
    "# count the samples by company\n",
    "count_sample(df_e, 'Sr_mgmt')"
   ]
  },
  {
   "cell_type": "code",
   "execution_count": null,
   "metadata": {},
   "outputs": [],
   "source": [
    "# calculate means and sems, and draw a chart\n",
    "%matplotlib notebook\n",
    "draw_chart(calc_means(df_e, 'Sr_mgmt'), calc_sems(df_e, 'Sr_mgmt'))\n",
    "print_label(\"Senior Management Ratings\")"
   ]
  },
  {
   "cell_type": "markdown",
   "metadata": {},
   "source": [
    "##   f) Overall Ratings"
   ]
  },
  {
   "cell_type": "markdown",
   "metadata": {},
   "source": [
    "#####  final size (67526) -- originally float64 type with 0 'none' value-- no need to be converted to numeric form"
   ]
  },
  {
   "cell_type": "code",
   "execution_count": null,
   "metadata": {},
   "outputs": [],
   "source": [
    "#df2.dtypes\n",
    "#df2['overall'].dtypes\n",
    "#df2['overall'].value_counts()"
   ]
  },
  {
   "cell_type": "code",
   "execution_count": null,
   "metadata": {},
   "outputs": [],
   "source": [
    "# count the samples by company\n",
    "df_f = df2\n",
    "count_sample(df_f, 'overall')"
   ]
  },
  {
   "cell_type": "code",
   "execution_count": null,
   "metadata": {},
   "outputs": [],
   "source": [
    "# calculate means and sems, and draw a chart\n",
    "%matplotlib notebook\n",
    "draw_chart(calc_means(df_f, 'overall'), calc_sems(df_f, 'overall'))\n",
    "print_label(\"Over-All Ratings\")"
   ]
  },
  {
   "cell_type": "code",
   "execution_count": null,
   "metadata": {},
   "outputs": [],
   "source": []
  },
  {
   "cell_type": "code",
   "execution_count": null,
   "metadata": {},
   "outputs": [],
   "source": []
  }
 ],
 "metadata": {
  "kernelspec": {
   "display_name": "Python 3",
   "language": "python",
   "name": "python3"
  },
  "language_info": {
   "codemirror_mode": {
    "name": "ipython",
    "version": 3
   },
   "file_extension": ".py",
   "mimetype": "text/x-python",
   "name": "python",
   "nbconvert_exporter": "python",
   "pygments_lexer": "ipython3",
   "version": "3.7.1"
  }
 },
 "nbformat": 4,
 "nbformat_minor": 2
}
