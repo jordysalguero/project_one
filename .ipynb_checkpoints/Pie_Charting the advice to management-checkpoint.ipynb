{
 "cells": [
  {
   "cell_type": "code",
   "execution_count": 1,
   "metadata": {},
   "outputs": [],
   "source": [
    "import pandas as pd\n",
    "import matplotlib.pyplot as plt\n",
    "import scipy.stats as stats\n",
    "from statsmodels.stats.multicomp import pairwise_tukeyhsd\n",
    "from statsmodels.stats.multicomp import MultiComparison\n",
    "from abla_function_creation import draw_chart,draw_chart2, print_label, calc_means, calc_sems, count_sample"
   ]
  },
  {
   "cell_type": "code",
   "execution_count": 3,
   "metadata": {},
   "outputs": [
    {
     "data": {
      "text/html": [
       "<div>\n",
       "<style scoped>\n",
       "    .dataframe tbody tr th:only-of-type {\n",
       "        vertical-align: middle;\n",
       "    }\n",
       "\n",
       "    .dataframe tbody tr th {\n",
       "        vertical-align: top;\n",
       "    }\n",
       "\n",
       "    .dataframe thead th {\n",
       "        text-align: right;\n",
       "    }\n",
       "</style>\n",
       "<table border=\"1\" class=\"dataframe\">\n",
       "  <thead>\n",
       "    <tr style=\"text-align: right;\">\n",
       "      <th></th>\n",
       "      <th>company</th>\n",
       "      <th>location</th>\n",
       "      <th>dates</th>\n",
       "      <th>advice-to-mgmt</th>\n",
       "      <th>status</th>\n",
       "    </tr>\n",
       "  </thead>\n",
       "  <tbody>\n",
       "    <tr>\n",
       "      <th>0</th>\n",
       "      <td>google</td>\n",
       "      <td>none</td>\n",
       "      <td>Dec 11, 2018</td>\n",
       "      <td>none</td>\n",
       "      <td>Current Employee</td>\n",
       "    </tr>\n",
       "    <tr>\n",
       "      <th>1</th>\n",
       "      <td>google</td>\n",
       "      <td>Mountain View, CA</td>\n",
       "      <td>Jun 21, 2013</td>\n",
       "      <td>1) Don't dismiss emotional intelligence and ad...</td>\n",
       "      <td>Former Employee</td>\n",
       "    </tr>\n",
       "    <tr>\n",
       "      <th>2</th>\n",
       "      <td>google</td>\n",
       "      <td>New York, NY</td>\n",
       "      <td>May 10, 2014</td>\n",
       "      <td>Keep the focus on the user. Everything else wi...</td>\n",
       "      <td>Current Employee</td>\n",
       "    </tr>\n",
       "    <tr>\n",
       "      <th>3</th>\n",
       "      <td>google</td>\n",
       "      <td>Mountain View, CA</td>\n",
       "      <td>Feb 8, 2015</td>\n",
       "      <td>Keep on NOT micromanaging - that is a huge ben...</td>\n",
       "      <td>Current Employee</td>\n",
       "    </tr>\n",
       "    <tr>\n",
       "      <th>4</th>\n",
       "      <td>google</td>\n",
       "      <td>Los Angeles, CA</td>\n",
       "      <td>Jul 19, 2018</td>\n",
       "      <td>Promote managers into management for their man...</td>\n",
       "      <td>Former Employee</td>\n",
       "    </tr>\n",
       "  </tbody>\n",
       "</table>\n",
       "</div>"
      ],
      "text/plain": [
       "  company           location          dates  \\\n",
       "0  google               none   Dec 11, 2018   \n",
       "1  google  Mountain View, CA   Jun 21, 2013   \n",
       "2  google       New York, NY   May 10, 2014   \n",
       "3  google  Mountain View, CA    Feb 8, 2015   \n",
       "4  google    Los Angeles, CA   Jul 19, 2018   \n",
       "\n",
       "                                      advice-to-mgmt             status  \n",
       "0                                               none  Current Employee   \n",
       "1  1) Don't dismiss emotional intelligence and ad...   Former Employee   \n",
       "2  Keep the focus on the user. Everything else wi...  Current Employee   \n",
       "3  Keep on NOT micromanaging - that is a huge ben...  Current Employee   \n",
       "4  Promote managers into management for their man...   Former Employee   "
      ]
     },
     "execution_count": 3,
     "metadata": {},
     "output_type": "execute_result"
    }
   ],
   "source": [
    "advice_df = pd.read_csv(\"employee_reviews.csv\",encoding=\"utf-8\")\n",
    "advice_df= advice_df[['company', 'location', 'dates', 'job-title', 'advice-to-mgmt']]\n",
    "new=advice_df['job-title'].str.split(\"-\",expand=True)\n",
    "advice_df['status']= new[0]\n",
    "advice_df['position']= new[1]\n",
    "advice_df= advice_df.drop(['job-title'],axis=1)\n",
    "advice_df= advice_df.drop(['position'],axis=1)\n",
    "\n",
    "advice_df.reset_index()\n",
    "\n",
    "advice_df.groupby(\"company\")\n",
    "advice_df.head()"
   ]
  },
  {
   "cell_type": "code",
   "execution_count": null,
   "metadata": {},
   "outputs": [],
   "source": []
  }
 ],
 "metadata": {
  "kernelspec": {
   "display_name": "Python 3",
   "language": "python",
   "name": "python3"
  },
  "language_info": {
   "codemirror_mode": {
    "name": "ipython",
    "version": 3
   },
   "file_extension": ".py",
   "mimetype": "text/x-python",
   "name": "python",
   "nbconvert_exporter": "python",
   "pygments_lexer": "ipython3",
   "version": "3.7.2"
  }
 },
 "nbformat": 4,
 "nbformat_minor": 2
}
